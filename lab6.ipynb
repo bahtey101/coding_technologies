{
 "cells": [
  {
   "cell_type": "markdown",
   "metadata": {},
   "source": [
    "### Лабораторна работа 6.\n",
    "Выполнили студенты группы **6404**\n",
    "- Бахаев Дмитрий В.\n",
    "- Сагалов Никита Д."
   ]
  },
  {
   "cell_type": "markdown",
   "metadata": {},
   "source": [
    "**6.1 Написать функции кодирования и декодирования для циклического кода (7,4) с порождающим многочленом 𝑔(𝑥) = 1 + 𝑥2 + 𝑥3, исправляющего однократные ошибки и провести исследование этого кода для одно-, двух- и трёхкратных ошибок.**"
   ]
  },
  {
   "cell_type": "code",
   "execution_count": 1,
   "metadata": {},
   "outputs": [],
   "source": [
    "import numpy as np"
   ]
  },
  {
   "cell_type": "code",
   "execution_count": 2,
   "metadata": {},
   "outputs": [],
   "source": [
    "def create_G(n, m, g_x):\n",
    "    G = np.zeros((m, n), dtype=int)\n",
    "    for i in range(m):\n",
    "        G[i, i: i + g_x.size] = g_x\n",
    "    for i in range(1, m):\n",
    "        for j in range(i):\n",
    "            if G[j][i] == 1:\n",
    "                G[j] ^= G[i]\n",
    "    return G\n",
    "\n",
    "\n",
    "def vec_to_num(v):\n",
    "    return (np.array([2 ** i for i in range(v.size)]) * v).sum()\n",
    "\n",
    "\n",
    "def find_remainder(bin_pol_num_1, bin_pol_num_2, n, m):\n",
    "    bin_pol_num_2 <<= m\n",
    "    for i in range(1, m + 1):\n",
    "        bin_pol_num_2 >>= 1\n",
    "        if bin_pol_num_1 >= 1 << (n - i):\n",
    "            bin_pol_num_1 ^= bin_pol_num_2\n",
    "    return bin_pol_num_1\n",
    "\n",
    "\n",
    "def decode_word(w, m, t, g_x_num):\n",
    "    n = w.size\n",
    "    w_num = vec_to_num(w)\n",
    "    w_num = find_remainder(w_num, g_x_num, n, m)\n",
    "    if w_num == 0:\n",
    "        return w.copy()[:m]\n",
    "    k = 0\n",
    "\n",
    "    while k > -n:\n",
    "        if w_num < 1 << t and w_num % 2 == 1:  #\n",
    "            break\n",
    "        w_num <<= 1\n",
    "        if w_num >= 1 << (n - m):\n",
    "            w_num ^= g_x_num\n",
    "        k -= 1\n",
    "\n",
    "    w_fix = w.copy()\n",
    "    while w_num != 0:\n",
    "        if w_num % 2 == 1:\n",
    "            w_fix[k] ^= 1\n",
    "        k += 1\n",
    "        w_num >>= 1\n",
    "    return w_fix[:m]\n"
   ]
  },
  {
   "cell_type": "code",
   "execution_count": 3,
   "metadata": {},
   "outputs": [
    {
     "data": {
      "text/plain": [
       "13"
      ]
     },
     "execution_count": 3,
     "metadata": {},
     "output_type": "execute_result"
    }
   ],
   "source": [
    "n = 7\n",
    "m = 4\n",
    "t = 1\n",
    "g_x = np.array([1, 0, 1, 1])\n",
    "g_x_num = vec_to_num(g_x)\n",
    "g_x_num"
   ]
  },
  {
   "cell_type": "code",
   "execution_count": 4,
   "metadata": {},
   "outputs": [
    {
     "data": {
      "text/plain": [
       "array([[1, 0, 0, 0, 1, 0, 1],\n",
       "       [0, 1, 0, 0, 1, 1, 1],\n",
       "       [0, 0, 1, 0, 1, 1, 0],\n",
       "       [0, 0, 0, 1, 0, 1, 1]])"
      ]
     },
     "execution_count": 4,
     "metadata": {},
     "output_type": "execute_result"
    }
   ],
   "source": [
    "G = create_G(n, m, g_x)\n",
    "G"
   ]
  },
  {
   "cell_type": "code",
   "execution_count": 5,
   "metadata": {},
   "outputs": [
    {
     "data": {
      "text/plain": [
       "array([1, 0, 0, 1, 1, 1, 0], dtype=int32)"
      ]
     },
     "execution_count": 5,
     "metadata": {},
     "output_type": "execute_result"
    }
   ],
   "source": [
    "word = np.array([1, 0, 0, 1])\n",
    "v = np.dot(word, G) % 2\n",
    "v"
   ]
  },
  {
   "cell_type": "markdown",
   "metadata": {},
   "source": [
    "Создаём векторы ошибок:  \n",
    "- Двухразрядную ошибку (`err2`), трёхразрядную ошибку (`err3`) и массив всех возможных одноразрядных ошибок.  \n",
    "- Генерируем ошибочные кодовые слова, добавляя ошибки к исходному кодовому слову."
   ]
  },
  {
   "cell_type": "code",
   "execution_count": 6,
   "metadata": {},
   "outputs": [
    {
     "data": {
      "text/plain": [
       "[array([0, 0, 0, 1, 1, 1, 0], dtype=int32),\n",
       " array([1, 1, 0, 1, 1, 1, 0], dtype=int32),\n",
       " array([1, 0, 1, 1, 1, 1, 0], dtype=int32),\n",
       " array([1, 0, 0, 0, 1, 1, 0], dtype=int32),\n",
       " array([1, 0, 0, 1, 0, 1, 0], dtype=int32),\n",
       " array([1, 0, 0, 1, 1, 0, 0], dtype=int32),\n",
       " array([1, 0, 0, 1, 1, 1, 1], dtype=int32)]"
      ]
     },
     "execution_count": 6,
     "metadata": {},
     "output_type": "execute_result"
    }
   ],
   "source": [
    "err2 = np.zeros_like(v, dtype=int)\n",
    "err2[1] = err2[2] = 1\n",
    "err3 = err2.copy()\n",
    "err3[3] = 1\n",
    "\n",
    "w_err2 = v ^ err2\n",
    "w_err3 = v ^ err3\n",
    "w_err1_array = [v.copy() ^ err1 for err1 in np.eye(n, dtype=int)]\n",
    "w_err1_array"
   ]
  },
  {
   "cell_type": "markdown",
   "metadata": {},
   "source": [
    "Декодируем исходное кодовое слово и проверяем, совпадает ли оно с исходным информационным словом. Затем декодируем кодовые слова с одноразрядными ошибками, проверяя корректность их исправления."
   ]
  },
  {
   "cell_type": "code",
   "execution_count": 7,
   "metadata": {},
   "outputs": [
    {
     "data": {
      "text/plain": [
       "True"
      ]
     },
     "execution_count": 7,
     "metadata": {},
     "output_type": "execute_result"
    }
   ],
   "source": [
    "dec_word = decode_word(v, m, t, g_x_num)\n",
    "np.array_equal(dec_word, word)"
   ]
  },
  {
   "cell_type": "code",
   "execution_count": 8,
   "metadata": {},
   "outputs": [
    {
     "name": "stdout",
     "output_type": "stream",
     "text": [
      "True\n",
      "True\n",
      "True\n",
      "True\n",
      "True\n",
      "True\n",
      "True\n"
     ]
    }
   ],
   "source": [
    "for w in w_err1_array:\n",
    "    dec_word = decode_word(w, m, t, g_x_num)\n",
    "    print(np.array_equal(dec_word, word))"
   ]
  },
  {
   "cell_type": "markdown",
   "metadata": {},
   "source": [
    "Декодируем кодовые слова с двухразрядной и трёхразрядной ошибками и проверяем, удалось ли восстановить исходное информационное слово."
   ]
  },
  {
   "cell_type": "code",
   "execution_count": 9,
   "metadata": {},
   "outputs": [
    {
     "data": {
      "text/plain": [
       "False"
      ]
     },
     "execution_count": 9,
     "metadata": {},
     "output_type": "execute_result"
    }
   ],
   "source": [
    "dec_word = decode_word(w_err2, m, t, g_x_num)\n",
    "np.array_equal(dec_word, word)"
   ]
  },
  {
   "cell_type": "code",
   "execution_count": 10,
   "metadata": {},
   "outputs": [
    {
     "data": {
      "text/plain": [
       "False"
      ]
     },
     "execution_count": 10,
     "metadata": {},
     "output_type": "execute_result"
    }
   ],
   "source": [
    "dec_word = decode_word(w_err3, m, t, g_x_num)\n",
    "np.array_equal(dec_word, word)"
   ]
  },
  {
   "cell_type": "markdown",
   "metadata": {},
   "source": [
    "**6.2 Написать функции кодирования и декодирования для циклического кода (15,9) с порождающим многочленом 𝑔(𝑥) = 1 + 𝑥3 + 𝑥4 + 𝑥5 + 𝑥6, исправляющего пакеты ошибок кратности 3 и провести исследование этого кода для пакетов ошибок длины 1, 2, 3 и 4. Обратите внимание, что пакет ошибок длины t не означает, что все разряды в пределах этого пакета изменятся (см. лекции).**"
   ]
  },
  {
   "cell_type": "code",
   "execution_count": 11,
   "metadata": {},
   "outputs": [
    {
     "data": {
      "text/plain": [
       "79"
      ]
     },
     "execution_count": 11,
     "metadata": {},
     "output_type": "execute_result"
    }
   ],
   "source": [
    "n = 15\n",
    "m = 9\n",
    "t = 3\n",
    "g_x = np.array([1, 1, 1, 1, 0, 0, 1])\n",
    "g_x_num = vec_to_num(g_x)\n",
    "g_x_num"
   ]
  },
  {
   "cell_type": "code",
   "execution_count": 12,
   "metadata": {},
   "outputs": [
    {
     "data": {
      "text/plain": [
       "array([[1, 0, 0, 0, 0, 0, 0, 0, 0, 1, 1, 1, 1, 0, 0],\n",
       "       [0, 1, 0, 0, 0, 0, 0, 0, 0, 0, 1, 1, 1, 1, 0],\n",
       "       [0, 0, 1, 0, 0, 0, 0, 0, 0, 0, 0, 1, 1, 1, 1],\n",
       "       [0, 0, 0, 1, 0, 0, 0, 0, 0, 1, 1, 1, 0, 1, 1],\n",
       "       [0, 0, 0, 0, 1, 0, 0, 0, 0, 1, 0, 0, 0, 0, 1],\n",
       "       [0, 0, 0, 0, 0, 1, 0, 0, 0, 1, 0, 1, 1, 0, 0],\n",
       "       [0, 0, 0, 0, 0, 0, 1, 0, 0, 0, 1, 0, 1, 1, 0],\n",
       "       [0, 0, 0, 0, 0, 0, 0, 1, 0, 0, 0, 1, 0, 1, 1],\n",
       "       [0, 0, 0, 0, 0, 0, 0, 0, 1, 1, 1, 1, 0, 0, 1]])"
      ]
     },
     "execution_count": 12,
     "metadata": {},
     "output_type": "execute_result"
    }
   ],
   "source": [
    "G = create_G(n, m, g_x)\n",
    "G"
   ]
  },
  {
   "cell_type": "code",
   "execution_count": 13,
   "metadata": {},
   "outputs": [
    {
     "data": {
      "text/plain": [
       "array([1, 1, 1, 0, 0, 0, 0, 0, 0, 1, 0, 1, 1, 0, 1], dtype=int32)"
      ]
     },
     "execution_count": 13,
     "metadata": {},
     "output_type": "execute_result"
    }
   ],
   "source": [
    "word = np.array([1, 1, 1, 0, 0, 0, 0, 0, 0])\n",
    "v = np.dot(word, G) % 2\n",
    "v"
   ]
  },
  {
   "cell_type": "markdown",
   "metadata": {},
   "source": [
    "Создаём векторы ошибок для кодового слова:  \n",
    "- Двухразрядную ошибку (`err2`), трёхразрядную ошибку (`err3`) и четырёхразрядную ошибку (`err4`).  \n",
    "- Генерируем ошибочные кодовые слова, добавляя эти ошибки к исходному кодовому слову, а также массив кодовых слов с одноразрядными ошибками."
   ]
  },
  {
   "cell_type": "code",
   "execution_count": 14,
   "metadata": {},
   "outputs": [
    {
     "data": {
      "text/plain": [
       "[array([0, 1, 1, 0, 0, 0, 0, 0, 0, 1, 0, 1, 1, 0, 1], dtype=int32),\n",
       " array([1, 0, 1, 0, 0, 0, 0, 0, 0, 1, 0, 1, 1, 0, 1], dtype=int32),\n",
       " array([1, 1, 0, 0, 0, 0, 0, 0, 0, 1, 0, 1, 1, 0, 1], dtype=int32),\n",
       " array([1, 1, 1, 1, 0, 0, 0, 0, 0, 1, 0, 1, 1, 0, 1], dtype=int32),\n",
       " array([1, 1, 1, 0, 1, 0, 0, 0, 0, 1, 0, 1, 1, 0, 1], dtype=int32),\n",
       " array([1, 1, 1, 0, 0, 1, 0, 0, 0, 1, 0, 1, 1, 0, 1], dtype=int32),\n",
       " array([1, 1, 1, 0, 0, 0, 1, 0, 0, 1, 0, 1, 1, 0, 1], dtype=int32),\n",
       " array([1, 1, 1, 0, 0, 0, 0, 1, 0, 1, 0, 1, 1, 0, 1], dtype=int32),\n",
       " array([1, 1, 1, 0, 0, 0, 0, 0, 1, 1, 0, 1, 1, 0, 1], dtype=int32),\n",
       " array([1, 1, 1, 0, 0, 0, 0, 0, 0, 0, 0, 1, 1, 0, 1], dtype=int32),\n",
       " array([1, 1, 1, 0, 0, 0, 0, 0, 0, 1, 1, 1, 1, 0, 1], dtype=int32),\n",
       " array([1, 1, 1, 0, 0, 0, 0, 0, 0, 1, 0, 0, 1, 0, 1], dtype=int32),\n",
       " array([1, 1, 1, 0, 0, 0, 0, 0, 0, 1, 0, 1, 0, 0, 1], dtype=int32),\n",
       " array([1, 1, 1, 0, 0, 0, 0, 0, 0, 1, 0, 1, 1, 1, 1], dtype=int32),\n",
       " array([1, 1, 1, 0, 0, 0, 0, 0, 0, 1, 0, 1, 1, 0, 0], dtype=int32)]"
      ]
     },
     "execution_count": 14,
     "metadata": {},
     "output_type": "execute_result"
    }
   ],
   "source": [
    "err2 = np.zeros_like(v, dtype=int)\n",
    "err2[1] = err2[2] = 1\n",
    "err3 = err2.copy()\n",
    "err3[3] = 1\n",
    "err4 = np.zeros_like(v, dtype=int)\n",
    "err4[6] = err4[7] = err4[9] = 1\n",
    "\n",
    "w_err2 = v ^ err2\n",
    "w_err3 = v ^ err3\n",
    "w_err4 = v ^ err4\n",
    "w_err1_array = [v.copy() ^ err1 for err1 in np.eye(n, dtype=int)]\n",
    "w_err1_array"
   ]
  },
  {
   "cell_type": "markdown",
   "metadata": {},
   "source": [
    "Декодируем исходное кодовое слово и проверяем, совпадает ли оно с исходным информационным словом. Затем декодируем кодовые слова с одноразрядными ошибками, проверяя корректность их исправления."
   ]
  },
  {
   "cell_type": "code",
   "execution_count": 15,
   "metadata": {},
   "outputs": [
    {
     "data": {
      "text/plain": [
       "True"
      ]
     },
     "execution_count": 15,
     "metadata": {},
     "output_type": "execute_result"
    }
   ],
   "source": [
    "dec_word = decode_word(v, m, t, g_x_num)\n",
    "np.array_equal(dec_word, word)"
   ]
  },
  {
   "cell_type": "code",
   "execution_count": 16,
   "metadata": {},
   "outputs": [
    {
     "name": "stdout",
     "output_type": "stream",
     "text": [
      "True\n",
      "True\n",
      "True\n",
      "True\n",
      "True\n",
      "True\n",
      "True\n",
      "True\n",
      "True\n",
      "True\n",
      "True\n",
      "True\n",
      "True\n",
      "True\n",
      "True\n"
     ]
    }
   ],
   "source": [
    "for w in w_err1_array:\n",
    "    dec_word = decode_word(w, m, t, g_x_num)\n",
    "    print(np.array_equal(dec_word, word))"
   ]
  },
  {
   "cell_type": "markdown",
   "metadata": {},
   "source": [
    "Декодируем кодовые слова с двух-, трёх- и четырёхразрядной ошибками и проверяем, удалось ли восстановить исходное информационное слово."
   ]
  },
  {
   "cell_type": "code",
   "execution_count": 17,
   "metadata": {},
   "outputs": [
    {
     "data": {
      "text/plain": [
       "True"
      ]
     },
     "execution_count": 17,
     "metadata": {},
     "output_type": "execute_result"
    }
   ],
   "source": [
    "dec_word = decode_word(w_err2, m, t, g_x_num)\n",
    "np.array_equal(dec_word, word)"
   ]
  },
  {
   "cell_type": "code",
   "execution_count": 18,
   "metadata": {},
   "outputs": [
    {
     "data": {
      "text/plain": [
       "True"
      ]
     },
     "execution_count": 18,
     "metadata": {},
     "output_type": "execute_result"
    }
   ],
   "source": [
    "dec_word = decode_word(w_err3, m, t, g_x_num)\n",
    "np.array_equal(dec_word, word)"
   ]
  },
  {
   "cell_type": "code",
   "execution_count": 19,
   "metadata": {},
   "outputs": [
    {
     "data": {
      "text/plain": [
       "False"
      ]
     },
     "execution_count": 19,
     "metadata": {},
     "output_type": "execute_result"
    }
   ],
   "source": [
    "dec_word = decode_word(w_err4, m, t, g_x_num)\n",
    "np.array_equal(dec_word, word)"
   ]
  }
 ],
 "metadata": {
  "kernelspec": {
   "display_name": "COLORIZATION",
   "language": "python",
   "name": "python3"
  },
  "language_info": {
   "codemirror_mode": {
    "name": "ipython",
    "version": 3
   },
   "file_extension": ".py",
   "mimetype": "text/x-python",
   "name": "python",
   "nbconvert_exporter": "python",
   "pygments_lexer": "ipython3",
   "version": "3.12.3"
  }
 },
 "nbformat": 4,
 "nbformat_minor": 2
}
