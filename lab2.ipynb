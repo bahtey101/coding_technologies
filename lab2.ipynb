{
 "cells": [
  {
   "cell_type": "markdown",
   "metadata": {},
   "source": [
    "### Лабораторна работа 2.\n",
    "Выполнили студенты группы **6404**\n",
    "- Бахаев Дмитрий В.\n",
    "- Сагалов Никита Д.\n",
    "\n",
    "**Подключение библиотек**"
   ]
  },
  {
   "cell_type": "code",
   "execution_count": 161,
   "metadata": {},
   "outputs": [],
   "source": [
    "import numpy as np"
   ]
  },
  {
   "cell_type": "markdown",
   "metadata": {},
   "source": [
    "**2.1. Сформировать порождающую матрицу линейного кода (7, 4, 3).**"
   ]
  },
  {
   "cell_type": "code",
   "execution_count": 162,
   "metadata": {},
   "outputs": [
    {
     "data": {
      "text/plain": [
       "array([[1, 0, 0, 0, 1, 1, 0],\n",
       "       [0, 1, 0, 0, 1, 0, 1],\n",
       "       [0, 0, 1, 0, 0, 1, 1],\n",
       "       [0, 0, 0, 1, 1, 1, 1]])"
      ]
     },
     "execution_count": 162,
     "metadata": {},
     "output_type": "execute_result"
    }
   ],
   "source": [
    "I_k = np.eye(4, dtype=int)\n",
    "X = np.array([[1, 1, 0],\n",
    "              [1, 0, 1],\n",
    "              [0, 1, 1],\n",
    "              [1, 1, 1]], dtype=int)\n",
    "G = np.hstack((I_k, X))\n",
    "\n",
    "G"
   ]
  },
  {
   "cell_type": "markdown",
   "metadata": {},
   "source": [
    "**2.2 Сформировать проверочную матрицу на основе порождающей.**"
   ]
  },
  {
   "cell_type": "code",
   "execution_count": 163,
   "metadata": {},
   "outputs": [
    {
     "data": {
      "text/plain": [
       "array([[1, 0, 0],\n",
       "       [0, 1, 0],\n",
       "       [0, 0, 1],\n",
       "       [1, 1, 0],\n",
       "       [1, 0, 1],\n",
       "       [0, 1, 1],\n",
       "       [1, 1, 1]])"
      ]
     },
     "execution_count": 163,
     "metadata": {},
     "output_type": "execute_result"
    }
   ],
   "source": [
    "H = np.vstack((np.eye(3, dtype=int), X))\n",
    "\n",
    "H"
   ]
  },
  {
   "cell_type": "markdown",
   "metadata": {},
   "source": [
    "**2.3 Сформировать таблицу синдромов для всех однократных ошибок.**"
   ]
  },
  {
   "cell_type": "code",
   "execution_count": 164,
   "metadata": {},
   "outputs": [
    {
     "data": {
      "text/plain": [
       "{(1, 0, 0): array([1, 0, 0, 0, 0, 0, 0]),\n",
       " (0, 1, 0): array([0, 1, 0, 0, 0, 0, 0]),\n",
       " (0, 0, 1): array([0, 0, 1, 0, 0, 0, 0]),\n",
       " (1, 1, 0): array([0, 0, 0, 1, 0, 0, 0]),\n",
       " (1, 0, 1): array([0, 0, 0, 0, 1, 0, 0]),\n",
       " (0, 1, 1): array([0, 0, 0, 0, 0, 1, 0]),\n",
       " (1, 1, 1): array([0, 0, 0, 0, 0, 0, 1])}"
      ]
     },
     "execution_count": 164,
     "metadata": {},
     "output_type": "execute_result"
    }
   ],
   "source": [
    "error_patterns = np.eye(7, dtype=int)\n",
    "syndrome_table = {}\n",
    "for i in range(7):\n",
    "    syndrome = error_patterns[i] @ H % 2\n",
    "    syndrome_table[tuple(syndrome)] = error_patterns[i]\n",
    "\n",
    "syndrome_table"
   ]
  },
  {
   "cell_type": "markdown",
   "metadata": {},
   "source": [
    "**2.4. Сформировать кодовое слово длины n из слова длины k. Внести однократную ошибку в сформированное слово. Вычислить синдром, исправить ошибку с использованием таблицы синдромов. Убедиться в правильности полученного слова.**"
   ]
  },
  {
   "cell_type": "code",
   "execution_count": 165,
   "metadata": {},
   "outputs": [
    {
     "name": "stdout",
     "output_type": "stream",
     "text": [
      "Начальное кодовое слово:      [1 1 1 1 1 1 1]\n",
      "Кодовое слово с ошибкой:      [1 1 1 1 0 1 1]\n",
      "Ошибка исправлена:            True\n"
     ]
    }
   ],
   "source": [
    "# Кодируем слово\n",
    "k_word = np.array([1, 1, 1, 1])\n",
    "code_word = k_word @ G % 2\n",
    "\n",
    "# Вносим однократную ошибку\n",
    "error = np.array([0, 0, 0, 0, 1, 0, 0])\n",
    "received_word = (code_word + error) % 2\n",
    "\n",
    "# Вычисляем синдром и исправляем ошибку\n",
    "syndrome = received_word @ H % 2\n",
    "if tuple(syndrome) in syndrome_table:\n",
    "    error_position = syndrome_table[tuple(syndrome)]\n",
    "    corrected_word = (received_word + error_position) % 2\n",
    "else:\n",
    "    corrected_word = received_word\n",
    "\n",
    "# Проверка\n",
    "print(\"Начальное кодовое слово:     \", code_word)\n",
    "print(\"Кодовое слово с ошибкой:     \", received_word)\n",
    "print(\"Ошибка исправлена:           \", np.array_equal(code_word, corrected_word))"
   ]
  },
  {
   "cell_type": "markdown",
   "metadata": {},
   "source": [
    "**2.5. Сформировать кодовое слово длины n из слова длины k. Внести двукратную ошибку в сформированное слово. Вычислить синдром, исправить ошибку с использованием таблицы синдромов. Убедиться, что полученное слово отличается от отправленного.**"
   ]
  },
  {
   "cell_type": "code",
   "execution_count": 166,
   "metadata": {},
   "outputs": [
    {
     "name": "stdout",
     "output_type": "stream",
     "text": [
      "Начальное кодовое слово:      [1 1 1 1 1 1 1]\n",
      "Кодовое слово с ошибкой:      [1 1 1 0 0 1 1]\n",
      "Ошибка исправлена:            False\n"
     ]
    }
   ],
   "source": [
    "double_error = np.array([0, 0, 0, 1, 1, 0, 0])\n",
    "received_word_double_error = (code_word + double_error) % 2\n",
    "\n",
    "syndrome_double_error = received_word_double_error @ H % 2\n",
    "if tuple(syndrome_double_error) in syndrome_table:\n",
    "    error_position = syndrome_table[tuple(syndrome_double_error)]\n",
    "    corrected_word_double = (received_word_double_error + error_position) % 2\n",
    "else:\n",
    "    corrected_word_double = received_word_double_error\n",
    "\n",
    "print(\"Начальное кодовое слово:     \", code_word)\n",
    "print(\"Кодовое слово с ошибкой:     \", received_word_double_error)\n",
    "print(\"Ошибка исправлена:           \", np.array_equal(code_word, corrected_word_double))"
   ]
  },
  {
   "cell_type": "markdown",
   "metadata": {},
   "source": [
    "**2.6. Сформировать порождающую матрицу линейного кода (n, k, 5).**"
   ]
  },
  {
   "cell_type": "code",
   "execution_count": 167,
   "metadata": {},
   "outputs": [
    {
     "data": {
      "text/plain": [
       "array([[1, 0, 0, 0, 1, 1, 1, 1, 0, 0, 0, 0],\n",
       "       [0, 1, 0, 0, 0, 0, 0, 0, 1, 1, 1, 1],\n",
       "       [0, 0, 1, 0, 0, 0, 1, 1, 0, 0, 1, 1],\n",
       "       [0, 0, 0, 1, 1, 0, 1, 0, 1, 0, 1, 0]])"
      ]
     },
     "execution_count": 167,
     "metadata": {},
     "output_type": "execute_result"
    }
   ],
   "source": [
    "n = 12\n",
    "k = 4\n",
    "I_k = np.eye(k, dtype=int)\n",
    "X = np.array([\n",
    "    [1, 1, 1, 1, 0, 0, 0, 0],\n",
    "    [0, 0, 0, 0, 1, 1, 1, 1],\n",
    "    [0, 0, 1, 1, 0, 0, 1, 1],\n",
    "    [1, 0, 1, 0, 1, 0, 1, 0],\n",
    "], dtype=int)\n",
    "G = np.hstack((I_k, X))\n",
    "\n",
    "G"
   ]
  },
  {
   "cell_type": "markdown",
   "metadata": {},
   "source": [
    "**2.7 Сформировать проверочную матрицу на основе порождающей.**"
   ]
  },
  {
   "cell_type": "code",
   "execution_count": 168,
   "metadata": {},
   "outputs": [
    {
     "data": {
      "text/plain": [
       "array([[1, 1, 1, 1, 0, 0, 0, 0],\n",
       "       [0, 0, 0, 0, 1, 1, 1, 1],\n",
       "       [0, 0, 1, 1, 0, 0, 1, 1],\n",
       "       [1, 0, 1, 0, 1, 0, 1, 0],\n",
       "       [1, 0, 0, 0, 0, 0, 0, 0],\n",
       "       [0, 1, 0, 0, 0, 0, 0, 0],\n",
       "       [0, 0, 1, 0, 0, 0, 0, 0],\n",
       "       [0, 0, 0, 1, 0, 0, 0, 0],\n",
       "       [0, 0, 0, 0, 1, 0, 0, 0],\n",
       "       [0, 0, 0, 0, 0, 1, 0, 0],\n",
       "       [0, 0, 0, 0, 0, 0, 1, 0],\n",
       "       [0, 0, 0, 0, 0, 0, 0, 1]])"
      ]
     },
     "execution_count": 168,
     "metadata": {},
     "output_type": "execute_result"
    }
   ],
   "source": [
    "H = np.vstack((X, np.eye(n - k, dtype=int)))\n",
    "\n",
    "H"
   ]
  },
  {
   "cell_type": "markdown",
   "metadata": {},
   "source": [
    "**2.8 Сформировать таблицу синдромов для всех однократных и двукратных ошибок**"
   ]
  },
  {
   "cell_type": "code",
   "execution_count": 169,
   "metadata": {},
   "outputs": [
    {
     "data": {
      "text/plain": [
       "{(1, 1, 1, 1, 0, 0, 0, 0): array([1, 0, 0, 0, 0, 0, 0, 0, 0, 0, 0, 0]),\n",
       " (1, 1, 1, 1, 1, 1, 1, 1): array([1, 1, 0, 0, 0, 0, 0, 0, 0, 0, 0, 0]),\n",
       " (1, 1, 0, 0, 0, 0, 1, 1): array([1, 0, 1, 0, 0, 0, 0, 0, 0, 0, 0, 0]),\n",
       " (0, 1, 0, 1, 1, 0, 1, 0): array([1, 0, 0, 1, 0, 0, 0, 0, 0, 0, 0, 0]),\n",
       " (0, 1, 1, 1, 0, 0, 0, 0): array([1, 0, 0, 0, 1, 0, 0, 0, 0, 0, 0, 0]),\n",
       " (1, 0, 1, 1, 0, 0, 0, 0): array([1, 0, 0, 0, 0, 1, 0, 0, 0, 0, 0, 0]),\n",
       " (1, 1, 0, 1, 0, 0, 0, 0): array([1, 0, 0, 0, 0, 0, 1, 0, 0, 0, 0, 0]),\n",
       " (1, 1, 1, 0, 0, 0, 0, 0): array([1, 0, 0, 0, 0, 0, 0, 1, 0, 0, 0, 0]),\n",
       " (1, 1, 1, 1, 1, 0, 0, 0): array([1, 0, 0, 0, 0, 0, 0, 0, 1, 0, 0, 0]),\n",
       " (1, 1, 1, 1, 0, 1, 0, 0): array([1, 0, 0, 0, 0, 0, 0, 0, 0, 1, 0, 0]),\n",
       " (1, 1, 1, 1, 0, 0, 1, 0): array([1, 0, 0, 0, 0, 0, 0, 0, 0, 0, 1, 0]),\n",
       " (1, 1, 1, 1, 0, 0, 0, 1): array([1, 0, 0, 0, 0, 0, 0, 0, 0, 0, 0, 1]),\n",
       " (0, 0, 0, 0, 1, 1, 1, 1): array([0, 1, 0, 0, 0, 0, 0, 0, 0, 0, 0, 0]),\n",
       " (0, 0, 1, 1, 1, 1, 0, 0): array([0, 1, 1, 0, 0, 0, 0, 0, 0, 0, 0, 0]),\n",
       " (1, 0, 1, 0, 0, 1, 0, 1): array([0, 1, 0, 1, 0, 0, 0, 0, 0, 0, 0, 0]),\n",
       " (1, 0, 0, 0, 1, 1, 1, 1): array([0, 1, 0, 0, 1, 0, 0, 0, 0, 0, 0, 0]),\n",
       " (0, 1, 0, 0, 1, 1, 1, 1): array([0, 1, 0, 0, 0, 1, 0, 0, 0, 0, 0, 0]),\n",
       " (0, 0, 1, 0, 1, 1, 1, 1): array([0, 1, 0, 0, 0, 0, 1, 0, 0, 0, 0, 0]),\n",
       " (0, 0, 0, 1, 1, 1, 1, 1): array([0, 1, 0, 0, 0, 0, 0, 1, 0, 0, 0, 0]),\n",
       " (0, 0, 0, 0, 0, 1, 1, 1): array([0, 1, 0, 0, 0, 0, 0, 0, 1, 0, 0, 0]),\n",
       " (0, 0, 0, 0, 1, 0, 1, 1): array([0, 1, 0, 0, 0, 0, 0, 0, 0, 1, 0, 0]),\n",
       " (0, 0, 0, 0, 1, 1, 0, 1): array([0, 1, 0, 0, 0, 0, 0, 0, 0, 0, 1, 0]),\n",
       " (0, 0, 0, 0, 1, 1, 1, 0): array([0, 1, 0, 0, 0, 0, 0, 0, 0, 0, 0, 1]),\n",
       " (0, 0, 1, 1, 0, 0, 1, 1): array([0, 0, 1, 0, 0, 0, 0, 0, 0, 0, 0, 0]),\n",
       " (1, 0, 0, 1, 1, 0, 0, 1): array([0, 0, 1, 1, 0, 0, 0, 0, 0, 0, 0, 0]),\n",
       " (1, 0, 1, 1, 0, 0, 1, 1): array([0, 0, 1, 0, 1, 0, 0, 0, 0, 0, 0, 0]),\n",
       " (0, 1, 1, 1, 0, 0, 1, 1): array([0, 0, 1, 0, 0, 1, 0, 0, 0, 0, 0, 0]),\n",
       " (0, 0, 0, 1, 0, 0, 1, 1): array([0, 0, 1, 0, 0, 0, 1, 0, 0, 0, 0, 0]),\n",
       " (0, 0, 1, 0, 0, 0, 1, 1): array([0, 0, 1, 0, 0, 0, 0, 1, 0, 0, 0, 0]),\n",
       " (0, 0, 1, 1, 1, 0, 1, 1): array([0, 0, 1, 0, 0, 0, 0, 0, 1, 0, 0, 0]),\n",
       " (0, 0, 1, 1, 0, 1, 1, 1): array([0, 0, 1, 0, 0, 0, 0, 0, 0, 1, 0, 0]),\n",
       " (0, 0, 1, 1, 0, 0, 0, 1): array([0, 0, 1, 0, 0, 0, 0, 0, 0, 0, 1, 0]),\n",
       " (0, 0, 1, 1, 0, 0, 1, 0): array([0, 0, 1, 0, 0, 0, 0, 0, 0, 0, 0, 1]),\n",
       " (1, 0, 1, 0, 1, 0, 1, 0): array([0, 0, 0, 1, 0, 0, 0, 0, 0, 0, 0, 0]),\n",
       " (0, 0, 1, 0, 1, 0, 1, 0): array([0, 0, 0, 1, 1, 0, 0, 0, 0, 0, 0, 0]),\n",
       " (1, 1, 1, 0, 1, 0, 1, 0): array([0, 0, 0, 1, 0, 1, 0, 0, 0, 0, 0, 0]),\n",
       " (1, 0, 0, 0, 1, 0, 1, 0): array([0, 0, 0, 1, 0, 0, 1, 0, 0, 0, 0, 0]),\n",
       " (1, 0, 1, 1, 1, 0, 1, 0): array([0, 0, 0, 1, 0, 0, 0, 1, 0, 0, 0, 0]),\n",
       " (1, 0, 1, 0, 0, 0, 1, 0): array([0, 0, 0, 1, 0, 0, 0, 0, 1, 0, 0, 0]),\n",
       " (1, 0, 1, 0, 1, 1, 1, 0): array([0, 0, 0, 1, 0, 0, 0, 0, 0, 1, 0, 0]),\n",
       " (1, 0, 1, 0, 1, 0, 0, 0): array([0, 0, 0, 1, 0, 0, 0, 0, 0, 0, 1, 0]),\n",
       " (1, 0, 1, 0, 1, 0, 1, 1): array([0, 0, 0, 1, 0, 0, 0, 0, 0, 0, 0, 1]),\n",
       " (1, 0, 0, 0, 0, 0, 0, 0): array([0, 0, 0, 0, 1, 0, 0, 0, 0, 0, 0, 0]),\n",
       " (1, 1, 0, 0, 0, 0, 0, 0): array([0, 0, 0, 0, 1, 1, 0, 0, 0, 0, 0, 0]),\n",
       " (1, 0, 1, 0, 0, 0, 0, 0): array([0, 0, 0, 0, 1, 0, 1, 0, 0, 0, 0, 0]),\n",
       " (1, 0, 0, 1, 0, 0, 0, 0): array([0, 0, 0, 0, 1, 0, 0, 1, 0, 0, 0, 0]),\n",
       " (1, 0, 0, 0, 1, 0, 0, 0): array([0, 0, 0, 0, 1, 0, 0, 0, 1, 0, 0, 0]),\n",
       " (1, 0, 0, 0, 0, 1, 0, 0): array([0, 0, 0, 0, 1, 0, 0, 0, 0, 1, 0, 0]),\n",
       " (1, 0, 0, 0, 0, 0, 1, 0): array([0, 0, 0, 0, 1, 0, 0, 0, 0, 0, 1, 0]),\n",
       " (1, 0, 0, 0, 0, 0, 0, 1): array([0, 0, 0, 0, 1, 0, 0, 0, 0, 0, 0, 1]),\n",
       " (0, 1, 0, 0, 0, 0, 0, 0): array([0, 0, 0, 0, 0, 1, 0, 0, 0, 0, 0, 0]),\n",
       " (0, 1, 1, 0, 0, 0, 0, 0): array([0, 0, 0, 0, 0, 1, 1, 0, 0, 0, 0, 0]),\n",
       " (0, 1, 0, 1, 0, 0, 0, 0): array([0, 0, 0, 0, 0, 1, 0, 1, 0, 0, 0, 0]),\n",
       " (0, 1, 0, 0, 1, 0, 0, 0): array([0, 0, 0, 0, 0, 1, 0, 0, 1, 0, 0, 0]),\n",
       " (0, 1, 0, 0, 0, 1, 0, 0): array([0, 0, 0, 0, 0, 1, 0, 0, 0, 1, 0, 0]),\n",
       " (0, 1, 0, 0, 0, 0, 1, 0): array([0, 0, 0, 0, 0, 1, 0, 0, 0, 0, 1, 0]),\n",
       " (0, 1, 0, 0, 0, 0, 0, 1): array([0, 0, 0, 0, 0, 1, 0, 0, 0, 0, 0, 1]),\n",
       " (0, 0, 1, 0, 0, 0, 0, 0): array([0, 0, 0, 0, 0, 0, 1, 0, 0, 0, 0, 0]),\n",
       " (0, 0, 1, 1, 0, 0, 0, 0): array([0, 0, 0, 0, 0, 0, 1, 1, 0, 0, 0, 0]),\n",
       " (0, 0, 1, 0, 1, 0, 0, 0): array([0, 0, 0, 0, 0, 0, 1, 0, 1, 0, 0, 0]),\n",
       " (0, 0, 1, 0, 0, 1, 0, 0): array([0, 0, 0, 0, 0, 0, 1, 0, 0, 1, 0, 0]),\n",
       " (0, 0, 1, 0, 0, 0, 1, 0): array([0, 0, 0, 0, 0, 0, 1, 0, 0, 0, 1, 0]),\n",
       " (0, 0, 1, 0, 0, 0, 0, 1): array([0, 0, 0, 0, 0, 0, 1, 0, 0, 0, 0, 1]),\n",
       " (0, 0, 0, 1, 0, 0, 0, 0): array([0, 0, 0, 0, 0, 0, 0, 1, 0, 0, 0, 0]),\n",
       " (0, 0, 0, 1, 1, 0, 0, 0): array([0, 0, 0, 0, 0, 0, 0, 1, 1, 0, 0, 0]),\n",
       " (0, 0, 0, 1, 0, 1, 0, 0): array([0, 0, 0, 0, 0, 0, 0, 1, 0, 1, 0, 0]),\n",
       " (0, 0, 0, 1, 0, 0, 1, 0): array([0, 0, 0, 0, 0, 0, 0, 1, 0, 0, 1, 0]),\n",
       " (0, 0, 0, 1, 0, 0, 0, 1): array([0, 0, 0, 0, 0, 0, 0, 1, 0, 0, 0, 1]),\n",
       " (0, 0, 0, 0, 1, 0, 0, 0): array([0, 0, 0, 0, 0, 0, 0, 0, 1, 0, 0, 0]),\n",
       " (0, 0, 0, 0, 1, 1, 0, 0): array([0, 0, 0, 0, 0, 0, 0, 0, 1, 1, 0, 0]),\n",
       " (0, 0, 0, 0, 1, 0, 1, 0): array([0, 0, 0, 0, 0, 0, 0, 0, 1, 0, 1, 0]),\n",
       " (0, 0, 0, 0, 1, 0, 0, 1): array([0, 0, 0, 0, 0, 0, 0, 0, 1, 0, 0, 1]),\n",
       " (0, 0, 0, 0, 0, 1, 0, 0): array([0, 0, 0, 0, 0, 0, 0, 0, 0, 1, 0, 0]),\n",
       " (0, 0, 0, 0, 0, 1, 1, 0): array([0, 0, 0, 0, 0, 0, 0, 0, 0, 1, 1, 0]),\n",
       " (0, 0, 0, 0, 0, 1, 0, 1): array([0, 0, 0, 0, 0, 0, 0, 0, 0, 1, 0, 1]),\n",
       " (0, 0, 0, 0, 0, 0, 1, 0): array([0, 0, 0, 0, 0, 0, 0, 0, 0, 0, 1, 0]),\n",
       " (0, 0, 0, 0, 0, 0, 1, 1): array([0, 0, 0, 0, 0, 0, 0, 0, 0, 0, 1, 1]),\n",
       " (0, 0, 0, 0, 0, 0, 0, 1): array([0, 0, 0, 0, 0, 0, 0, 0, 0, 0, 0, 1])}"
      ]
     },
     "execution_count": 169,
     "metadata": {},
     "output_type": "execute_result"
    }
   ],
   "source": [
    "syndroms = dict()\n",
    "\n",
    "for i in range(H.shape[0]):\n",
    "    for j in range(i, H.shape[0]):\n",
    "        if i == j:\n",
    "            error = np.zeros(n, dtype=int)\n",
    "            error[i] = 1\n",
    "            syndroms[tuple(H[i, :])] = error\n",
    "        else:\n",
    "            error = np.zeros(n, dtype=int)\n",
    "            error[i] = 1\n",
    "            error[j] = 1\n",
    "            syndroms[tuple((H[i, :] + H[j, :]) % 2)] = error\n",
    "\n",
    "syndroms"
   ]
  },
  {
   "cell_type": "markdown",
   "metadata": {},
   "source": [
    "**2.9. Сформировать кодовое слово длины n из слова длины k. Внести однократную ошибку в сформированное слово. Вычислить синдром, исправить ошибку с использованием таблицы синдромов. Убедиться в правильности полученного слова.**"
   ]
  },
  {
   "cell_type": "code",
   "execution_count": 170,
   "metadata": {},
   "outputs": [
    {
     "name": "stdout",
     "output_type": "stream",
     "text": [
      "Начальное кодовое слово:      [1 0 0 0 1 1 1 1 0 0 0 0]\n",
      "Кодовое слово с ошибкой:      [1 0 0 0 1 1 0 1 0 0 0 0]\n",
      "Ошибка исправлена:            True\n"
     ]
    }
   ],
   "source": [
    "# Кодируем слово\n",
    "k_word = np.array([1, 0, 0, 0])\n",
    "code_word = k_word @ G % 2\n",
    "\n",
    "# Вносим однократную ошибку\n",
    "error = np.array([0, 0, 0, 0, 0, 0, 1, 0, 0, 0, 0, 0])\n",
    "received_word = (code_word + error) % 2\n",
    "\n",
    "# Вычисляем синдром и исправляем ошибку\n",
    "syndrome = received_word @ H % 2\n",
    "if tuple(syndrome) in syndroms:\n",
    "    syndrome_error = syndroms[tuple(syndrome)]\n",
    "    corrected_word = (received_word + syndrome_error) % 2\n",
    "else:\n",
    "    corrected_word = received_word\n",
    "\n",
    "# Проверка\n",
    "print(\"Начальное кодовое слово:     \", code_word)\n",
    "print(\"Кодовое слово с ошибкой:     \", received_word)\n",
    "print(\"Ошибка исправлена:           \", np.array_equal(code_word, corrected_word))"
   ]
  },
  {
   "cell_type": "markdown",
   "metadata": {},
   "source": [
    "**2.10. Сформировать кодовое слово длины n из слова длины k. Внести двукратную ошибку в сформированное слово. Вычислить синдром, исправить ошибку с использованием таблицы синдромов. Убедиться в правильности полученного слова.**"
   ]
  },
  {
   "cell_type": "code",
   "execution_count": 171,
   "metadata": {},
   "outputs": [
    {
     "name": "stdout",
     "output_type": "stream",
     "text": [
      "Начальное кодовое слово:      [1 0 0 0 1 1 1 1 0 0 0 0]\n",
      "Кодовое слово с ошибкой:      [1 0 0 0 1 0 0 1 0 0 0 0]\n",
      "Ошибка исправлена:            True\n"
     ]
    }
   ],
   "source": [
    "error = np.array([0, 0, 0, 0, 0, 1, 1, 0, 0, 0, 0, 0])\n",
    "received_word = (code_word + error) % 2\n",
    "\n",
    "syndrome = received_word @ H % 2\n",
    "if tuple(syndrome) in syndroms:\n",
    "    syndrome_error = syndroms[tuple(syndrome)]\n",
    "    corrected_word = (received_word + syndrome_error) % 2\n",
    "else:\n",
    "    corrected_word = received_word\n",
    "\n",
    "print(\"Начальное кодовое слово:     \", code_word)\n",
    "print(\"Кодовое слово с ошибкой:     \", received_word)\n",
    "print(\"Ошибка исправлена:           \", np.array_equal(code_word, corrected_word))"
   ]
  },
  {
   "cell_type": "markdown",
   "metadata": {},
   "source": [
    "**2.11. Сформировать кодовое слово длины n из слова длины k. Внести трёхкратную ошибку в сформированное слово. Вычислить синдром, исправить ошибку с использованием таблицы синдромов. Убедиться, что полученное слово отличается от отправленного.**"
   ]
  },
  {
   "cell_type": "code",
   "execution_count": 172,
   "metadata": {},
   "outputs": [
    {
     "name": "stdout",
     "output_type": "stream",
     "text": [
      "Начальное кодовое слово:      [1 0 0 0 1 1 1 1 0 0 0 0]\n",
      "Кодовое слово с ошибкой:      [1 0 0 0 0 0 0 1 0 0 0 0]\n",
      "Ошибка исправлена:            False\n"
     ]
    }
   ],
   "source": [
    "error = np.array([0, 0, 0, 0, 1, 1, 1, 0, 0, 0, 0, 0])\n",
    "received_word = (code_word + error) % 2\n",
    "\n",
    "syndrome = received_word @ H % 2\n",
    "if tuple(syndrome) in syndroms:\n",
    "    syndrome_error = syndroms[tuple(syndrome)]\n",
    "    corrected_word = (received_word + syndrome_error) % 2\n",
    "else:\n",
    "    corrected_word = received_word\n",
    "\n",
    "print(\"Начальное кодовое слово:     \", code_word)\n",
    "print(\"Кодовое слово с ошибкой:     \", received_word)\n",
    "print(\"Ошибка исправлена:           \", np.array_equal(code_word, corrected_word))"
   ]
  }
 ],
 "metadata": {
  "kernelspec": {
   "display_name": "Python 3",
   "language": "python",
   "name": "python3"
  },
  "language_info": {
   "codemirror_mode": {
    "name": "ipython",
    "version": 3
   },
   "file_extension": ".py",
   "mimetype": "text/x-python",
   "name": "python",
   "nbconvert_exporter": "python",
   "pygments_lexer": "ipython3",
   "version": "3.12.3"
  }
 },
 "nbformat": 4,
 "nbformat_minor": 2
}
