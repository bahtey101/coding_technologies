{
 "cells": [
  {
   "cell_type": "markdown",
   "metadata": {},
   "source": [
    "### Лабораторна работа 2.\n",
    "Выполнили студенты группы **6404**\n",
    "- Бахаев Дмитрий В.\n",
    "- Сагалов Никита Д.\n",
    "\n",
    "**Подключение библиотек**"
   ]
  },
  {
   "cell_type": "code",
   "execution_count": 131,
   "metadata": {},
   "outputs": [],
   "source": [
    "import numpy as np"
   ]
  },
  {
   "cell_type": "markdown",
   "metadata": {},
   "source": [
    "**2.1. Сформировать порождающую матрицу линейного кода (7, 4, 3).**"
   ]
  },
  {
   "cell_type": "code",
   "execution_count": 132,
   "metadata": {},
   "outputs": [
    {
     "data": {
      "text/plain": [
       "array([[1, 0, 0, 0, 1, 1, 0],\n",
       "       [0, 1, 0, 0, 1, 0, 1],\n",
       "       [0, 0, 1, 0, 0, 1, 1],\n",
       "       [0, 0, 0, 1, 1, 1, 1]])"
      ]
     },
     "execution_count": 132,
     "metadata": {},
     "output_type": "execute_result"
    }
   ],
   "source": [
    "I_k = np.eye(4, dtype=int)\n",
    "X = np.array([[1, 1, 0],\n",
    "              [1, 0, 1],\n",
    "              [0, 1, 1],\n",
    "              [1, 1, 1]], dtype=int)\n",
    "G = np.hstack((I_k, X))\n",
    "\n",
    "G"
   ]
  },
  {
   "cell_type": "markdown",
   "metadata": {},
   "source": [
    "**2.2 Сформировать проверочную матрицу на основе порождающей.**"
   ]
  },
  {
   "cell_type": "code",
   "execution_count": 133,
   "metadata": {},
   "outputs": [
    {
     "data": {
      "text/plain": [
       "array([[1, 1, 0, 1, 1, 0, 0],\n",
       "       [1, 0, 1, 1, 0, 1, 0],\n",
       "       [0, 1, 1, 1, 0, 0, 1]])"
      ]
     },
     "execution_count": 133,
     "metadata": {},
     "output_type": "execute_result"
    }
   ],
   "source": [
    "H = np.hstack((X.T, np.eye(3, dtype=int)))\n",
    "\n",
    "H"
   ]
  },
  {
   "cell_type": "markdown",
   "metadata": {},
   "source": [
    "**2.3 Сформировать таблицу синдромов для всех однократных ошибок.**"
   ]
  },
  {
   "cell_type": "code",
   "execution_count": 134,
   "metadata": {},
   "outputs": [
    {
     "data": {
      "text/plain": [
       "{(1, 1, 0): 0,\n",
       " (1, 0, 1): 1,\n",
       " (0, 1, 1): 2,\n",
       " (1, 1, 1): 3,\n",
       " (1, 0, 0): 4,\n",
       " (0, 1, 0): 5,\n",
       " (0, 0, 1): 6}"
      ]
     },
     "execution_count": 134,
     "metadata": {},
     "output_type": "execute_result"
    }
   ],
   "source": [
    "error_patterns = np.eye(7, dtype=int)\n",
    "syndrome_table = {}\n",
    "for i in range(7):\n",
    "    syndrome = H @ error_patterns[i] % 2\n",
    "    syndrome_table[tuple(syndrome)] = i\n",
    "\n",
    "syndrome_table"
   ]
  },
  {
   "cell_type": "markdown",
   "metadata": {},
   "source": [
    "**2.4. Сформировать кодовое слово длины n из слова длины k. Внести однократную ошибку в сформированное слово. Вычислить синдром, исправить ошибку с использованием таблицы синдромов. Убедиться в правильности полученного слова.**"
   ]
  },
  {
   "cell_type": "code",
   "execution_count": 135,
   "metadata": {},
   "outputs": [
    {
     "name": "stdout",
     "output_type": "stream",
     "text": [
      "Начальное кодовое слово:      [1 0 1 0 1 0 1]\n",
      "Кодовое слово с ошибкой:      [1 0 1 0 0 0 1]\n",
      "Ошибка исправлена:            True\n"
     ]
    }
   ],
   "source": [
    "# Кодируем слово\n",
    "k_word = np.array([1, 0, 1, 0])\n",
    "code_word = k_word @ G % 2\n",
    "\n",
    "# Вносим однократную ошибку\n",
    "error = np.array([0, 0, 0, 0, 1, 0, 0])\n",
    "received_word = (code_word + error) % 2\n",
    "\n",
    "# Вычисляем синдром и исправляем ошибку\n",
    "syndrome = H @ received_word % 2\n",
    "if tuple(syndrome) in syndrome_table:\n",
    "    error_position = syndrome_table[tuple(syndrome)]\n",
    "    corrected_word = (received_word + error_patterns[error_position]) % 2\n",
    "else:\n",
    "    corrected_word = received_word\n",
    "\n",
    "# Проверка\n",
    "print(\"Начальное кодовое слово:     \", code_word)\n",
    "print(\"Кодовое слово с ошибкой:     \", received_word)\n",
    "print(\"Ошибка исправлена:           \", np.array_equal(code_word, corrected_word))"
   ]
  },
  {
   "cell_type": "markdown",
   "metadata": {},
   "source": [
    "**2.5. Сформировать кодовое слово длины n из слова длины k. Внести двукратную ошибку в сформированное слово. Вычислить синдром, исправить ошибку с использованием таблицы синдромов. Убедиться, что полученное слово отличается от отправленного.**"
   ]
  },
  {
   "cell_type": "code",
   "execution_count": 136,
   "metadata": {},
   "outputs": [
    {
     "name": "stdout",
     "output_type": "stream",
     "text": [
      "Начальное кодовое слово:      [1 0 1 0 1 0 1]\n",
      "Кодовое слово с ошибкой:      [1 0 1 1 0 0 1]\n",
      "Ошибка исправлена:            False\n"
     ]
    }
   ],
   "source": [
    "double_error = np.array([0, 0, 0, 1, 1, 0, 0])\n",
    "received_word_double_error = (code_word + double_error) % 2\n",
    "\n",
    "syndrome_double_error = H @ received_word_double_error % 2\n",
    "if tuple(syndrome_double_error) in syndrome_table:\n",
    "    error_position = syndrome_table[tuple(syndrome_double_error)]\n",
    "    corrected_word_double = (received_word_double_error + error_patterns[[error_position]]) % 2\n",
    "else:\n",
    "    corrected_word_double = received_word_double_error\n",
    "\n",
    "print(\"Начальное кодовое слово:     \", code_word)\n",
    "print(\"Кодовое слово с ошибкой:     \", received_word_double_error)\n",
    "print(\"Ошибка исправлена:           \", np.array_equal(code_word, corrected_word_double))"
   ]
  },
  {
   "cell_type": "markdown",
   "metadata": {},
   "source": [
    "**2.6. Сформировать порождающую матрицу линейного кода (n, k, 5).**"
   ]
  },
  {
   "cell_type": "code",
   "execution_count": 137,
   "metadata": {},
   "outputs": [
    {
     "data": {
      "text/plain": [
       "array([[1, 0, 0, 0, 0, 1, 1, 1, 0, 1, 0],\n",
       "       [0, 1, 0, 0, 0, 1, 0, 1, 1, 0, 1],\n",
       "       [0, 0, 1, 0, 0, 0, 1, 1, 1, 0, 1],\n",
       "       [0, 0, 0, 1, 0, 1, 1, 0, 1, 1, 0],\n",
       "       [0, 0, 0, 0, 1, 0, 1, 1, 0, 1, 1]])"
      ]
     },
     "execution_count": 137,
     "metadata": {},
     "output_type": "execute_result"
    }
   ],
   "source": [
    "n = 11\n",
    "k = 5\n",
    "I_k = np.eye(k, dtype=int)\n",
    "X = np.array([\n",
    "    [1, 1, 1, 0, 1, 0],\n",
    "    [1, 0, 1, 1, 0, 1],\n",
    "    [0, 1, 1, 1, 0, 1],\n",
    "    [1, 1, 0, 1, 1, 0],\n",
    "    [0, 1, 1, 0, 1, 1]\n",
    "], dtype=int)\n",
    "G = np.hstack((I_k, X))\n",
    "G"
   ]
  },
  {
   "cell_type": "markdown",
   "metadata": {},
   "source": [
    "**2.7 Сформировать проверочную матрицу на основе порождающей.**"
   ]
  },
  {
   "cell_type": "code",
   "execution_count": 138,
   "metadata": {},
   "outputs": [
    {
     "data": {
      "text/plain": [
       "array([[1, 1, 0, 1, 0, 1, 0, 0, 0, 0, 0],\n",
       "       [1, 0, 1, 1, 1, 0, 1, 0, 0, 0, 0],\n",
       "       [1, 1, 1, 0, 1, 0, 0, 1, 0, 0, 0],\n",
       "       [0, 1, 1, 1, 0, 0, 0, 0, 1, 0, 0],\n",
       "       [1, 0, 0, 1, 1, 0, 0, 0, 0, 1, 0],\n",
       "       [0, 1, 1, 0, 1, 0, 0, 0, 0, 0, 1]])"
      ]
     },
     "execution_count": 138,
     "metadata": {},
     "output_type": "execute_result"
    }
   ],
   "source": [
    "H = np.hstack((X.T, np.eye(n - k, dtype=int)))\n",
    "H"
   ]
  },
  {
   "cell_type": "markdown",
   "metadata": {},
   "source": [
    "**2.8 Сформировать таблицу синдромов для всех однократных и двукратных ошибок**"
   ]
  },
  {
   "cell_type": "code",
   "execution_count": 139,
   "metadata": {},
   "outputs": [
    {
     "data": {
      "text/plain": [
       "{(1, 1, 1, 0, 1, 0): array([1, 0, 0, 0, 0, 0, 0, 0, 0, 0, 0]),\n",
       " (1, 0, 1, 1, 0, 1): array([0, 1, 0, 0, 0, 0, 0, 0, 0, 0, 0]),\n",
       " (0, 1, 1, 1, 0, 1): array([0, 0, 1, 0, 0, 0, 0, 0, 0, 0, 0]),\n",
       " (1, 1, 0, 1, 1, 0): array([0, 0, 0, 1, 0, 0, 0, 0, 0, 0, 0]),\n",
       " (0, 1, 1, 0, 1, 1): array([0, 0, 0, 0, 1, 0, 0, 0, 0, 0, 0]),\n",
       " (1, 0, 0, 0, 0, 0): array([0, 0, 0, 0, 0, 1, 0, 0, 0, 0, 0]),\n",
       " (0, 1, 0, 0, 0, 0): array([0, 0, 0, 0, 0, 0, 1, 0, 0, 0, 0]),\n",
       " (0, 0, 1, 0, 0, 0): array([0, 0, 0, 0, 0, 0, 0, 1, 0, 0, 0]),\n",
       " (0, 0, 0, 1, 0, 0): array([0, 0, 0, 0, 0, 0, 0, 0, 1, 0, 0]),\n",
       " (0, 0, 0, 0, 1, 0): array([0, 0, 0, 0, 0, 0, 0, 0, 0, 1, 0]),\n",
       " (0, 0, 0, 0, 0, 1): array([0, 0, 0, 0, 0, 0, 0, 0, 0, 0, 1]),\n",
       " (0, 1, 0, 1, 1, 1): array([1, 1, 0, 0, 0, 0, 0, 0, 0, 0, 0]),\n",
       " (1, 0, 0, 1, 1, 1): array([1, 0, 1, 0, 0, 0, 0, 0, 0, 0, 0]),\n",
       " (0, 0, 1, 1, 0, 0): array([1, 0, 0, 1, 0, 0, 0, 0, 0, 0, 0]),\n",
       " (1, 0, 0, 0, 0, 1): array([1, 0, 0, 0, 1, 0, 0, 0, 0, 0, 0]),\n",
       " (0, 1, 1, 0, 1, 0): array([1, 0, 0, 0, 0, 1, 0, 0, 0, 0, 0]),\n",
       " (1, 0, 1, 0, 1, 0): array([1, 0, 0, 0, 0, 0, 1, 0, 0, 0, 0]),\n",
       " (1, 1, 0, 0, 1, 0): array([1, 0, 0, 0, 0, 0, 0, 1, 0, 0, 0]),\n",
       " (1, 1, 1, 1, 1, 0): array([1, 0, 0, 0, 0, 0, 0, 0, 1, 0, 0]),\n",
       " (1, 1, 1, 0, 0, 0): array([1, 0, 0, 0, 0, 0, 0, 0, 0, 1, 0]),\n",
       " (1, 1, 1, 0, 1, 1): array([1, 0, 0, 0, 0, 0, 0, 0, 0, 0, 1]),\n",
       " (1, 1, 0, 0, 0, 0): array([0, 1, 1, 0, 0, 0, 0, 0, 0, 0, 0]),\n",
       " (0, 0, 1, 1, 0, 1): array([0, 1, 0, 0, 0, 1, 0, 0, 0, 0, 0]),\n",
       " (1, 1, 1, 1, 0, 1): array([0, 1, 0, 0, 0, 0, 1, 0, 0, 0, 0]),\n",
       " (1, 0, 0, 1, 0, 1): array([0, 1, 0, 0, 0, 0, 0, 1, 0, 0, 0]),\n",
       " (1, 0, 1, 0, 0, 1): array([0, 1, 0, 0, 0, 0, 0, 0, 1, 0, 0]),\n",
       " (1, 0, 1, 1, 1, 1): array([0, 1, 0, 0, 0, 0, 0, 0, 0, 1, 0]),\n",
       " (1, 0, 1, 1, 0, 0): array([0, 1, 0, 0, 0, 0, 0, 0, 0, 0, 1]),\n",
       " (1, 0, 1, 0, 1, 1): array([0, 0, 1, 1, 0, 0, 0, 0, 0, 0, 0]),\n",
       " (0, 0, 0, 1, 1, 0): array([0, 0, 1, 0, 1, 0, 0, 0, 0, 0, 0]),\n",
       " (0, 1, 0, 1, 0, 1): array([0, 0, 1, 0, 0, 0, 0, 1, 0, 0, 0]),\n",
       " (0, 1, 1, 0, 0, 1): array([0, 0, 1, 0, 0, 0, 0, 0, 1, 0, 0]),\n",
       " (0, 1, 1, 1, 1, 1): array([0, 0, 1, 0, 0, 0, 0, 0, 0, 1, 0]),\n",
       " (0, 1, 1, 1, 0, 0): array([0, 0, 1, 0, 0, 0, 0, 0, 0, 0, 1]),\n",
       " (0, 1, 0, 1, 1, 0): array([0, 0, 0, 1, 0, 1, 0, 0, 0, 0, 0]),\n",
       " (1, 0, 0, 1, 1, 0): array([0, 0, 0, 1, 0, 0, 1, 0, 0, 0, 0]),\n",
       " (1, 1, 0, 1, 0, 0): array([0, 0, 0, 1, 0, 0, 0, 0, 0, 1, 0]),\n",
       " (1, 1, 0, 1, 1, 1): array([0, 0, 0, 1, 0, 0, 0, 0, 0, 0, 1]),\n",
       " (0, 0, 1, 0, 1, 1): array([0, 0, 0, 0, 1, 0, 1, 0, 0, 0, 0]),\n",
       " (0, 1, 0, 0, 1, 1): array([0, 0, 0, 0, 1, 0, 0, 1, 0, 0, 0]),\n",
       " (1, 0, 1, 0, 0, 0): array([0, 0, 0, 0, 0, 1, 0, 1, 0, 0, 0]),\n",
       " (1, 0, 0, 1, 0, 0): array([0, 0, 0, 0, 0, 1, 0, 0, 1, 0, 0]),\n",
       " (1, 0, 0, 0, 1, 0): array([0, 0, 0, 0, 0, 1, 0, 0, 0, 1, 0]),\n",
       " (0, 1, 1, 0, 0, 0): array([0, 0, 0, 0, 0, 0, 1, 1, 0, 0, 0]),\n",
       " (0, 1, 0, 1, 0, 0): array([0, 0, 0, 0, 0, 0, 1, 0, 1, 0, 0]),\n",
       " (0, 1, 0, 0, 1, 0): array([0, 0, 0, 0, 0, 0, 1, 0, 0, 1, 0]),\n",
       " (0, 1, 0, 0, 0, 1): array([0, 0, 0, 0, 0, 0, 1, 0, 0, 0, 1]),\n",
       " (0, 0, 1, 0, 1, 0): array([0, 0, 0, 0, 0, 0, 0, 1, 0, 1, 0]),\n",
       " (0, 0, 1, 0, 0, 1): array([0, 0, 0, 0, 0, 0, 0, 1, 0, 0, 1]),\n",
       " (0, 0, 0, 1, 0, 1): array([0, 0, 0, 0, 0, 0, 0, 0, 1, 0, 1]),\n",
       " (0, 0, 0, 0, 1, 1): array([0, 0, 0, 0, 0, 0, 0, 0, 0, 1, 1])}"
      ]
     },
     "execution_count": 139,
     "metadata": {},
     "output_type": "execute_result"
    }
   ],
   "source": [
    "error_patterns = np.eye(n, dtype=int)\n",
    "syndrome_table = {}\n",
    "for i in range(n):\n",
    "    syndrome = H @ error_patterns[i] % 2\n",
    "    syndrome_table[tuple(syndrome)] = error_patterns[i]\n",
    "\n",
    "# Генерируем двукратные ошибки и добавляем их в таблицу синдромов\n",
    "double_error_patterns = [np.bitwise_xor(error_patterns[i], error_patterns[j]) for i, j in combinations(range(11), 2)]\n",
    "for pattern in double_error_patterns:\n",
    "    syndrome = H @ pattern % 2\n",
    "    if tuple(syndrome) not in syndrome_table:\n",
    "        syndrome_table[tuple(syndrome)] = pattern\n",
    "\n",
    "syndrome_table"
   ]
  },
  {
   "cell_type": "markdown",
   "metadata": {},
   "source": [
    "**2.9. Сформировать кодовое слово длины n из слова длины k. Внести однократную ошибку в сформированное слово. Вычислить синдром, исправить ошибку с использованием таблицы синдромов. Убедиться в правильности полученного слова.**"
   ]
  },
  {
   "cell_type": "code",
   "execution_count": 140,
   "metadata": {},
   "outputs": [
    {
     "name": "stdout",
     "output_type": "stream",
     "text": [
      "Начальное кодовое слово:      [1 0 1 0 1 1 1 1 1 0 0]\n",
      "Кодовое слово с ошибкой:      [1 0 1 0 1 1 0 1 1 0 0]\n",
      "Ошибка исправлена:            True\n"
     ]
    }
   ],
   "source": [
    "# Кодируем слово\n",
    "k_word = np.array([1, 0, 1, 0, 1])\n",
    "code_word = k_word @ G % 2\n",
    "\n",
    "# Вносим однократную ошибку\n",
    "error = np.array([0, 0, 0, 0, 0, 0, 1, 0, 0, 0, 0])\n",
    "received_word = (code_word + error) % 2\n",
    "\n",
    "# Вычисляем синдром и исправляем ошибку\n",
    "syndrome = H @ received_word % 2\n",
    "if tuple(syndrome) in syndrome_table:\n",
    "    syndrome = syndrome_table[tuple(syndrome)]\n",
    "    corrected_word = (received_word + syndrome) % 2\n",
    "else:\n",
    "    corrected_word = received_word\n",
    "\n",
    "# Проверка\n",
    "print(\"Начальное кодовое слово:     \", code_word)\n",
    "print(\"Кодовое слово с ошибкой:     \", received_word)\n",
    "print(\"Ошибка исправлена:           \", np.array_equal(code_word, corrected_word))"
   ]
  },
  {
   "cell_type": "markdown",
   "metadata": {},
   "source": [
    "**2.10. Сформировать кодовое слово длины n из слова длины k. Внести двукратную ошибку в сформированное слово. Вычислить синдром, исправить ошибку с использованием таблицы синдромов. Убедиться в правильности полученного слова.**"
   ]
  },
  {
   "cell_type": "code",
   "execution_count": 141,
   "metadata": {},
   "outputs": [
    {
     "name": "stdout",
     "output_type": "stream",
     "text": [
      "Received Word (Double Error): [1 0 0 1 1 1 1 1 1 0 0]\n",
      "Corrected Word (Double Error): [1 0 1 0 1 1 1 1 1 0 0]\n"
     ]
    },
    {
     "data": {
      "text/plain": [
       "array([1, 0, 1, 0, 1, 1], dtype=int32)"
      ]
     },
     "execution_count": 141,
     "metadata": {},
     "output_type": "execute_result"
    }
   ],
   "source": [
    "double_error = np.array([0, 0, 1, 1, 0, 0, 0, 0, 0, 0, 0])\n",
    "received_word_double_error = (code_word + double_error) % 2\n",
    "\n",
    "syndrome_double_error = H @ received_word_double_error % 2\n",
    "if tuple(syndrome_double_error) in syndrome_table:\n",
    "    syndrome = syndrome_table[tuple(syndrome_double_error)]\n",
    "    corrected_word_double = (received_word_double_error + syndrome) % 2\n",
    "else:\n",
    "    corrected_word_double = received_word_double_error\n",
    "\n",
    "print(\"Received Word (Double Error):\", received_word_double_error)\n",
    "print(\"Corrected Word (Double Error):\", corrected_word_double)\n",
    "syndrome_double_error"
   ]
  }
 ],
 "metadata": {
  "kernelspec": {
   "display_name": "Python 3",
   "language": "python",
   "name": "python3"
  },
  "language_info": {
   "codemirror_mode": {
    "name": "ipython",
    "version": 3
   },
   "file_extension": ".py",
   "mimetype": "text/x-python",
   "name": "python",
   "nbconvert_exporter": "python",
   "pygments_lexer": "ipython3",
   "version": "3.12.3"
  }
 },
 "nbformat": 4,
 "nbformat_minor": 2
}
