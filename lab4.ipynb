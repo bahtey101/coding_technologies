{
 "cells": [
  {
   "cell_type": "markdown",
   "metadata": {},
   "source": [
    "### Лабораторна работа 4.\n",
    "Выполнили студенты группы **6404**\n",
    "- Бахаев Дмитрий В.\n",
    "- Сагалов Никита Д."
   ]
  },
  {
   "cell_type": "markdown",
   "metadata": {},
   "source": [
    "**4.1 Написать функцию формирования порождающей и проверочной матриц расширенного кода Голея (24,12,8).**"
   ]
  },
  {
   "cell_type": "code",
   "execution_count": 1,
   "metadata": {},
   "outputs": [],
   "source": [
    "import numpy as np"
   ]
  },
  {
   "cell_type": "code",
   "execution_count": 2,
   "metadata": {},
   "outputs": [
    {
     "name": "stdout",
     "output_type": "stream",
     "text": [
      "G\n",
      " [[1 0 0 0 0 0 0 0 0 0 0 0 1 1 0 1 1 1 0 0 0 1 0 1]\n",
      " [0 1 0 0 0 0 0 0 0 0 0 0 1 0 1 1 1 0 0 0 1 0 1 1]\n",
      " [0 0 1 0 0 0 0 0 0 0 0 0 0 1 1 1 0 0 0 1 0 1 1 1]\n",
      " [0 0 0 1 0 0 0 0 0 0 0 0 1 1 1 0 0 0 1 0 1 1 0 1]\n",
      " [0 0 0 0 1 0 0 0 0 0 0 0 1 1 0 0 0 1 0 1 1 0 1 1]\n",
      " [0 0 0 0 0 1 0 0 0 0 0 0 1 0 0 0 1 0 1 1 0 1 1 1]\n",
      " [0 0 0 0 0 0 1 0 0 0 0 0 0 0 0 1 0 1 1 0 1 1 1 1]\n",
      " [0 0 0 0 0 0 0 1 0 0 0 0 0 0 1 0 1 1 0 1 1 1 0 1]\n",
      " [0 0 0 0 0 0 0 0 1 0 0 0 0 1 0 1 1 0 1 1 1 0 0 1]\n",
      " [0 0 0 0 0 0 0 0 0 1 0 0 1 0 1 1 0 1 1 1 0 0 0 1]\n",
      " [0 0 0 0 0 0 0 0 0 0 1 0 0 1 1 0 1 1 1 0 0 0 1 1]\n",
      " [0 0 0 0 0 0 0 0 0 0 0 1 1 1 1 1 1 1 1 1 1 1 1 0]] \n",
      "\n",
      "H\n",
      " [[1 0 0 0 0 0 0 0 0 0 0 0]\n",
      " [0 1 0 0 0 0 0 0 0 0 0 0]\n",
      " [0 0 1 0 0 0 0 0 0 0 0 0]\n",
      " [0 0 0 1 0 0 0 0 0 0 0 0]\n",
      " [0 0 0 0 1 0 0 0 0 0 0 0]\n",
      " [0 0 0 0 0 1 0 0 0 0 0 0]\n",
      " [0 0 0 0 0 0 1 0 0 0 0 0]\n",
      " [0 0 0 0 0 0 0 1 0 0 0 0]\n",
      " [0 0 0 0 0 0 0 0 1 0 0 0]\n",
      " [0 0 0 0 0 0 0 0 0 1 0 0]\n",
      " [0 0 0 0 0 0 0 0 0 0 1 0]\n",
      " [0 0 0 0 0 0 0 0 0 0 0 1]\n",
      " [1 1 0 1 1 1 0 0 0 1 0 1]\n",
      " [1 0 1 1 1 0 0 0 1 0 1 1]\n",
      " [0 1 1 1 0 0 0 1 0 1 1 1]\n",
      " [1 1 1 0 0 0 1 0 1 1 0 1]\n",
      " [1 1 0 0 0 1 0 1 1 0 1 1]\n",
      " [1 0 0 0 1 0 1 1 0 1 1 1]\n",
      " [0 0 0 1 0 1 1 0 1 1 1 1]\n",
      " [0 0 1 0 1 1 0 1 1 1 0 1]\n",
      " [0 1 0 1 1 0 1 1 1 0 0 1]\n",
      " [1 0 1 1 0 1 1 1 0 0 0 1]\n",
      " [0 1 1 0 1 1 1 0 0 0 1 1]\n",
      " [1 1 1 1 1 1 1 1 1 1 1 0]] \n",
      "\n"
     ]
    }
   ],
   "source": [
    "def golay_matrices():\n",
    "    # Порождающая матрица кода Голея\n",
    "    G = np.array([\n",
    "        [1, 0, 0, 0, 0, 0, 0, 0, 0, 0, 0, 0, 1, 1, 0, 1, 1, 1, 0, 0, 0, 1, 0, 1],\n",
    "        [0, 1, 0, 0, 0, 0, 0, 0, 0, 0, 0, 0, 1, 0, 1, 1, 1, 0, 0, 0, 1, 0, 1, 1],\n",
    "        [0, 0, 1, 0, 0, 0, 0, 0, 0, 0, 0, 0, 0, 1, 1, 1, 0, 0, 0, 1, 0, 1, 1, 1],\n",
    "        [0, 0, 0, 1, 0, 0, 0, 0, 0, 0, 0, 0, 1, 1, 1, 0, 0, 0, 1, 0, 1, 1, 0, 1],\n",
    "        [0, 0, 0, 0, 1, 0, 0, 0, 0, 0, 0, 0, 1, 1, 0, 0, 0, 1, 0, 1, 1, 0, 1, 1],\n",
    "        [0, 0, 0, 0, 0, 1, 0, 0, 0, 0, 0, 0, 1, 0, 0, 0, 1, 0, 1, 1, 0, 1, 1, 1],\n",
    "        [0, 0, 0, 0, 0, 0, 1, 0, 0, 0, 0, 0, 0, 0, 0, 1, 0, 1, 1, 0, 1, 1, 1, 1],\n",
    "        [0, 0, 0, 0, 0, 0, 0, 1, 0, 0, 0, 0, 0, 0, 1, 0, 1, 1, 0, 1, 1, 1, 0, 1],\n",
    "        [0, 0, 0, 0, 0, 0, 0, 0, 1, 0, 0, 0, 0, 1, 0, 1, 1, 0, 1, 1, 1, 0, 0, 1],\n",
    "        [0, 0, 0, 0, 0, 0, 0, 0, 0, 1, 0, 0, 1, 0, 1, 1, 0, 1, 1, 1, 0, 0, 0, 1],\n",
    "        [0, 0, 0, 0, 0, 0, 0, 0, 0, 0, 1, 0, 0, 1, 1, 0, 1, 1, 1, 0, 0, 0, 1, 1],\n",
    "        [0, 0, 0, 0, 0, 0, 0, 0, 0, 0, 0, 1, 1, 1, 1, 1, 1, 1, 1, 1, 1, 1, 1, 0]\n",
    "    ])\n",
    "\n",
    "    return G, G.T\n",
    "\n",
    "G, H = golay_matrices()\n",
    "print(\"G\\n\", G, \"\\n\")\n",
    "print(\"H\\n\", H, \"\\n\")"
   ]
  },
  {
   "cell_type": "markdown",
   "metadata": {},
   "source": [
    "**4.2. Провести исследование расширенного кода Голея для одно-, двух-, трёх- и четырёхкратных ошибок.**"
   ]
  },
  {
   "cell_type": "code",
   "execution_count": 3,
   "metadata": {},
   "outputs": [],
   "source": [
    "def gen_n_error_word(size, n, G):\n",
    "    # Кодируем слово\n",
    "    k_word = np.array([1] + [0] * (size - 1))\n",
    "    code_word = k_word @ G % 2\n",
    "\n",
    "    # Вносим n-кратную ошибку\n",
    "    error = np.array([1] * n + [0] * (G.shape[1] - n))\n",
    "    received_word = (code_word + error) % 2\n",
    "\n",
    "    return code_word, received_word\n",
    "\n",
    "\n",
    "def detect_error(word, G, H):\n",
    "    B = G[:,12:]\n",
    "    syndrome = (word @ H) % 2\n",
    "    error_vector = None\n",
    "    \n",
    "    if np.sum(syndrome) <= 3:\n",
    "        error_vector = np.hstack((syndrome, np.zeros_like(syndrome)))\n",
    "    else:\n",
    "        for idx, row in enumerate(B):\n",
    "            candidate = (syndrome + row) % 2\n",
    "            if np.sum(candidate) <= 2:\n",
    "                error_pos = np.zeros_like(syndrome)\n",
    "                error_pos[idx] = 1\n",
    "                error_vector = np.hstack((candidate, error_pos))\n",
    "                break\n",
    "    \n",
    "    if error_vector is None:\n",
    "        syndrome_proj = (syndrome @ B) % 2\n",
    "        if np.sum(syndrome_proj) <= 3:\n",
    "            error_vector = np.hstack((np.zeros_like(syndrome), syndrome_proj))\n",
    "        else:\n",
    "            for idx, row in enumerate(B):\n",
    "                candidate = (syndrome_proj + row) % 2\n",
    "                if np.sum(candidate) <= 2:\n",
    "                    error_pos = np.zeros_like(syndrome)\n",
    "                    error_pos[idx] = 1\n",
    "                    error_vector = np.hstack((error_pos, candidate))\n",
    "                    break\n",
    "    \n",
    "    if error_vector is None:\n",
    "        return None\n",
    "    else:\n",
    "        return (word + error_vector) % 2\n",
    "\n",
    "\n",
    "def test(G, H):\n",
    "    print(\"==============================\")\n",
    "    for n in range(1, 5):\n",
    "        word, error_word = gen_n_error_word(12, n, G)\n",
    "        corrected_word = detect_error(error_word, G, H)\n",
    "        \n",
    "        print(\"Количество ошибок:                   \", n)\n",
    "        print(\"Начальное закодированное слово:      \", word)\n",
    "        print(\"Закодированное слово с ошибками:     \", error_word)\n",
    "        print(\"Ошибка исправлена:                   \", np.array_equal(word, corrected_word))\n",
    "        print(\"------------------------------\")"
   ]
  },
  {
   "cell_type": "code",
   "execution_count": 4,
   "metadata": {},
   "outputs": [
    {
     "name": "stdout",
     "output_type": "stream",
     "text": [
      "==============================\n",
      "Количество ошибок:                    1\n",
      "Начальное закодированное слово:       [1 0 0 0 0 0 0 0 0 0 0 0 1 1 0 1 1 1 0 0 0 1 0 1]\n",
      "Закодированное слово с ошибками:      [0 0 0 0 0 0 0 0 0 0 0 0 1 1 0 1 1 1 0 0 0 1 0 1]\n",
      "Ошибка исправлена:                    True\n",
      "------------------------------\n",
      "Количество ошибок:                    2\n",
      "Начальное закодированное слово:       [1 0 0 0 0 0 0 0 0 0 0 0 1 1 0 1 1 1 0 0 0 1 0 1]\n",
      "Закодированное слово с ошибками:      [0 1 0 0 0 0 0 0 0 0 0 0 1 1 0 1 1 1 0 0 0 1 0 1]\n",
      "Ошибка исправлена:                    True\n",
      "------------------------------\n",
      "Количество ошибок:                    3\n",
      "Начальное закодированное слово:       [1 0 0 0 0 0 0 0 0 0 0 0 1 1 0 1 1 1 0 0 0 1 0 1]\n",
      "Закодированное слово с ошибками:      [0 1 1 0 0 0 0 0 0 0 0 0 1 1 0 1 1 1 0 0 0 1 0 1]\n",
      "Ошибка исправлена:                    True\n",
      "------------------------------\n",
      "Количество ошибок:                    4\n",
      "Начальное закодированное слово:       [1 0 0 0 0 0 0 0 0 0 0 0 1 1 0 1 1 1 0 0 0 1 0 1]\n",
      "Закодированное слово с ошибками:      [0 1 1 1 0 0 0 0 0 0 0 0 1 1 0 1 1 1 0 0 0 1 0 1]\n",
      "Ошибка исправлена:                    False\n",
      "------------------------------\n"
     ]
    }
   ],
   "source": [
    "test(G, H)"
   ]
  },
  {
   "cell_type": "markdown",
   "metadata": {},
   "source": [
    "**4.3 Написать функцию формирования порождающей и проверочных матриц кода Рида-Маллера 𝑅𝑀(𝑟, 𝑚) на основе параметров 𝑟 и 𝑚.**"
   ]
  },
  {
   "cell_type": "code",
   "execution_count": 5,
   "metadata": {},
   "outputs": [
    {
     "name": "stdout",
     "output_type": "stream",
     "text": [
      "G\n",
      " [[1 1 1 1 1 1 1 1]\n",
      " [0 1 0 1 0 1 0 1]\n",
      " [0 0 1 1 0 0 1 1]\n",
      " [0 0 0 0 1 1 1 1]] \n",
      "\n"
     ]
    }
   ],
   "source": [
    "def rm_matrix(r, m):\n",
    "    if r == 0:\n",
    "        return np.ones((1, 2**m), dtype=int)\n",
    "    \n",
    "    if r == m:\n",
    "        return np.vstack((\n",
    "            rm_matrix(m-1, m),\n",
    "            np.array([0] * (2**m - 1) + [1], dtype=int)\n",
    "        ))\n",
    "            \n",
    "    return np.vstack((\n",
    "        np.hstack((rm_matrix(r, m-1), rm_matrix(r, m-1))),\n",
    "        np.hstack((np.zeros((1, 2**(m-1)), dtype=int), rm_matrix(r-1, m-1)))\n",
    "    ))\n",
    "\n",
    "\n",
    "def rm_check_matrix(H, i, m):\n",
    "    return np.ones((1, 2**(m-i)), dtype=int) @ H @ np.ones((1, 2**(i-1)), dtype=int)\n",
    "\n",
    "r, m = 1, 3\n",
    "\n",
    "G = rm_matrix(r, m)\n",
    "print(\"G\\n\", G, \"\\n\")"
   ]
  },
  {
   "cell_type": "markdown",
   "metadata": {},
   "source": [
    "**4.4. Провести исследование кода Рида-Маллера 𝑅𝑀(1,3) для одно- и двукратных ошибок.**"
   ]
  },
  {
   "cell_type": "code",
   "execution_count": 6,
   "metadata": {},
   "outputs": [],
   "source": [
    "def kronecker_product(A, B):\n",
    "    rows_A, cols_A = A.shape\n",
    "    rows_B, cols_B = B.shape\n",
    "    result = np.zeros((rows_A * rows_B, cols_A * cols_B), dtype=A.dtype)\n",
    "\n",
    "    for i in range(rows_A):\n",
    "        for j in range(cols_A):\n",
    "            result[i * rows_B:(i + 1) * rows_B, j * cols_B:(j + 1) * cols_B] = A[i, j] * B\n",
    "    return result\n",
    "\n",
    "def rm_check_matrix(H, m, level):\n",
    "    identity_part = np.eye(2 ** (m - level), dtype=int)\n",
    "    hadamard_part = kronecker_product(identity_part, H)\n",
    "    padding_part = kronecker_product(hadamard_part, np.eye(2 ** (level - 1)))\n",
    "    return padding_part\n",
    "\n",
    "\n",
    "def test_rm(word, original_encoded_message, generator_matrix, m):\n",
    "    received_message = np.copy(word)\n",
    "    received_message[received_message == 0] = -1\n",
    "    decoding_steps = []\n",
    "    H = np.array([[1, 1], [1, -1]])\n",
    "    decoding_steps.append(received_message @ rm_check_matrix(H, m, 1))\n",
    "    for level in range(2, m + 1):\n",
    "        decoding_steps.append(decoding_steps[-1] @ rm_check_matrix(H, m, level))\n",
    "\n",
    "    max_value = decoding_steps[0][0]\n",
    "    error_position = -1\n",
    "    for step in decoding_steps:\n",
    "        for idx, value in enumerate(step):\n",
    "            if abs(value) > abs(max_value):\n",
    "                max_value = value\n",
    "                error_position = idx\n",
    "    \n",
    "    print(\"Начальное закодированное слово:      \", original_encoded_message)\n",
    "    print(\"Закодированное слово с ошибками:     \", word)\n",
    "\n",
    "    max_count = sum(abs(value) == abs(max_value) for step in decoding_steps for value in step)\n",
    "    if max_count > 1:\n",
    "        print(\"Ошибка исправлена:                   \", False)\n",
    "        return\n",
    "    \n",
    "    corrected_message = list(map(int, format(error_position, f'0{m}b')))\n",
    "    corrected_message.append(1 if max_value > 0 else 0)\n",
    "    re_encoded_message = np.array(corrected_message[::-1]) @ generator_matrix % 2\n",
    "\n",
    "    print(\"Ошибка исправлена:                   \", np.array_equal(original_encoded_message, re_encoded_message))"
   ]
  },
  {
   "cell_type": "code",
   "execution_count": 7,
   "metadata": {},
   "outputs": [
    {
     "name": "stdout",
     "output_type": "stream",
     "text": [
      "==============================\n",
      "Количество ошибок:                    1\n",
      "Начальное закодированное слово:       [1 1 1 1 1 1 1 1]\n",
      "Закодированное слово с ошибками:      [0 1 1 1 1 1 1 1]\n",
      "Ошибка исправлена:                    True\n",
      "------------------------------\n",
      "Количество ошибок:                    2\n",
      "Начальное закодированное слово:       [1 1 1 1 1 1 1 1]\n",
      "Закодированное слово с ошибками:      [0 0 1 1 1 1 1 1]\n",
      "Ошибка исправлена:                    False\n",
      "------------------------------\n"
     ]
    }
   ],
   "source": [
    "r, m = 1, 3\n",
    "G = rm_matrix(r, m)\n",
    "print(\"==============================\")\n",
    "for n in range(1, 3):\n",
    "    print(\"Количество ошибок:                   \", n)\n",
    "    word, error_word = gen_n_error_word(G.shape[0], n, G)\n",
    "    test_rm(error_word, word, G, m)\n",
    "    print(\"------------------------------\")"
   ]
  },
  {
   "cell_type": "markdown",
   "metadata": {},
   "source": [
    "**4.5. Провести исследование кода Рида-Маллера 𝑅𝑀(1,4) для одно-, двух-, трёх- и четырёхкратных ошибок.**"
   ]
  },
  {
   "cell_type": "code",
   "execution_count": 8,
   "metadata": {},
   "outputs": [
    {
     "name": "stdout",
     "output_type": "stream",
     "text": [
      "==============================\n",
      "Количество ошибок:                    1\n",
      "Начальное закодированное слово:       [1 1 1 1 1 1 1 1 1 1 1 1 1 1 1 1]\n",
      "Закодированное слово с ошибками:      [0 1 1 1 1 1 1 1 1 1 1 1 1 1 1 1]\n",
      "Ошибка исправлена:                    True\n",
      "------------------------------\n",
      "Количество ошибок:                    2\n",
      "Начальное закодированное слово:       [1 1 1 1 1 1 1 1 1 1 1 1 1 1 1 1]\n",
      "Закодированное слово с ошибками:      [0 0 1 1 1 1 1 1 1 1 1 1 1 1 1 1]\n",
      "Ошибка исправлена:                    True\n",
      "------------------------------\n",
      "Количество ошибок:                    3\n",
      "Начальное закодированное слово:       [1 1 1 1 1 1 1 1 1 1 1 1 1 1 1 1]\n",
      "Закодированное слово с ошибками:      [0 0 0 1 1 1 1 1 1 1 1 1 1 1 1 1]\n",
      "Ошибка исправлена:                    True\n",
      "------------------------------\n",
      "Количество ошибок:                    4\n",
      "Начальное закодированное слово:       [1 1 1 1 1 1 1 1 1 1 1 1 1 1 1 1]\n",
      "Закодированное слово с ошибками:      [0 0 0 0 1 1 1 1 1 1 1 1 1 1 1 1]\n",
      "Ошибка исправлена:                    False\n",
      "------------------------------\n"
     ]
    }
   ],
   "source": [
    "r, m = 1, 4\n",
    "G = rm_matrix(r, m)\n",
    "print(\"==============================\")\n",
    "for n in range(1, 5):\n",
    "    print(\"Количество ошибок:                   \", n)\n",
    "    word, error_word = gen_n_error_word(G.shape[0], n, G)\n",
    "    test_rm(error_word, word, G, m)\n",
    "    print(\"------------------------------\")"
   ]
  }
 ],
 "metadata": {
  "kernelspec": {
   "display_name": "COLORIZATION",
   "language": "python",
   "name": "python3"
  },
  "language_info": {
   "codemirror_mode": {
    "name": "ipython",
    "version": 3
   },
   "file_extension": ".py",
   "mimetype": "text/x-python",
   "name": "python",
   "nbconvert_exporter": "python",
   "pygments_lexer": "ipython3",
   "version": "3.12.3"
  }
 },
 "nbformat": 4,
 "nbformat_minor": 2
}
