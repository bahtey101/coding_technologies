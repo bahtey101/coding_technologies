{
 "cells": [
  {
   "cell_type": "markdown",
   "id": "7d3c51e9",
   "metadata": {},
   "source": [
    "### Лабораторна работа 1.\n",
    "Выполнили студенты группы **6404**\n",
    "- Бахаев Дмитрий В.\n",
    "- Сагалов Никита Д.\n",
    "\n",
    "**Подключение библиотек**"
   ]
  },
  {
   "cell_type": "code",
   "execution_count": 1,
   "id": "9a987101",
   "metadata": {},
   "outputs": [],
   "source": [
    "import numpy as np"
   ]
  },
  {
   "cell_type": "markdown",
   "id": "026aea75",
   "metadata": {},
   "source": [
    "**1.1. Реализация функции REF(), приводящей матрицу к ступенчатому виду**"
   ]
  },
  {
   "cell_type": "code",
   "execution_count": 2,
   "id": "7a821e21",
   "metadata": {},
   "outputs": [],
   "source": [
    "def REF(matrix):\n",
    "    matrix = matrix % 2\n",
    "    \n",
    "    rows, cols = matrix.shape\n",
    "    lead = 0\n",
    "    \n",
    "    for r in range(rows):\n",
    "        if lead >= cols:\n",
    "            return matrix\n",
    "        \n",
    "        i = r\n",
    "        while matrix[i, lead] == 0:\n",
    "            i += 1\n",
    "            if i == rows:\n",
    "                i = r\n",
    "                lead += 1\n",
    "                if lead == cols:\n",
    "                    return matrix\n",
    "        \n",
    "        # Меняем строки местами\n",
    "        matrix[[i, r]] = matrix[[r, i]]\n",
    "\n",
    "        # Зануляем все строки под ведущим элементом\n",
    "        for i in range(rows):\n",
    "            if i != r:\n",
    "                if matrix[i, lead] == 1:\n",
    "                    matrix[i] = (matrix[i] + matrix[r]) % 2\n",
    "        \n",
    "        lead += 1\n",
    "        \n",
    "    return matrix"
   ]
  },
  {
   "cell_type": "markdown",
   "id": "ac2455db",
   "metadata": {},
   "source": [
    "Проверка работы"
   ]
  },
  {
   "cell_type": "code",
   "execution_count": 3,
   "id": "bd5b7db8",
   "metadata": {},
   "outputs": [
    {
     "data": {
      "text/plain": [
       "array([[1, 0, 0, 0, 1],\n",
       "       [0, 1, 0, 1, 0],\n",
       "       [0, 0, 1, 0, 1],\n",
       "       [0, 0, 0, 0, 0]], dtype=int32)"
      ]
     },
     "execution_count": 3,
     "metadata": {},
     "output_type": "execute_result"
    }
   ],
   "source": [
    "matrix = np.array([[3, 0, 2, 4, 5],\n",
    "                  [0, 0, 5, 6, 7],\n",
    "                  [0, 8, 3, -2, 5],\n",
    "                  [0, 1, 0, 1, 0]])\n",
    "\n",
    "REF(matrix)"
   ]
  },
  {
   "cell_type": "markdown",
   "id": "69956bbd",
   "metadata": {},
   "source": [
    "**1.2. Реализация функции PREF(), которая приводит матрицу к приведённому ступенчатому виду**"
   ]
  },
  {
   "cell_type": "code",
   "execution_count": 4,
   "id": "ca37af6d",
   "metadata": {},
   "outputs": [],
   "source": [
    "def RREF(matrix):\n",
    "    matrix = matrix % 2\n",
    "    \n",
    "    rows, cols = matrix.shape\n",
    "    row = 0\n",
    "    \n",
    "    for col in range(cols):\n",
    "        # Находим ненулевой элемент в текущем столбце \n",
    "        # начиная с текущей строки\n",
    "        if row >= rows:\n",
    "            break\n",
    "        for i in range(row, rows):\n",
    "            if matrix[i, col] == 1:\n",
    "                # Меняем строки местами если необходимо\n",
    "                if i != row:\n",
    "                    matrix[[row, i]] = matrix[[i, row]]\n",
    "                break\n",
    "        else:\n",
    "            # Переход к следующему столбцу\n",
    "            continue\n",
    "\n",
    "        # Обнуляем все элементы выше и ниже ведущего\n",
    "        for i in range(rows):\n",
    "            if i != row and matrix[i, col] == 1:\n",
    "                matrix[i] = (matrix[i] + matrix[row]) % 2\n",
    "\n",
    "        # Переходим к следующей строке\n",
    "        row += 1\n",
    "    \n",
    "    # Удаляем нулевые строки\n",
    "    matrix = matrix[~np.all(matrix == 0, axis=1)]\n",
    "\n",
    "    return matrix"
   ]
  },
  {
   "cell_type": "markdown",
   "id": "d345110b",
   "metadata": {},
   "source": [
    "Проверка работы"
   ]
  },
  {
   "cell_type": "code",
   "execution_count": 5,
   "id": "a3fc35a2",
   "metadata": {},
   "outputs": [
    {
     "data": {
      "text/plain": [
       "array([[1, 0, 0],\n",
       "       [0, 0, 1]], dtype=int32)"
      ]
     },
     "execution_count": 5,
     "metadata": {},
     "output_type": "execute_result"
    }
   ],
   "source": [
    "matrix = np.array([[3, 2, 1],\n",
    "                   [5, 4, 4],\n",
    "                   [7, 6, 6]])\n",
    "\n",
    "RREF(matrix)"
   ]
  },
  {
   "cell_type": "markdown",
   "id": "43e575d1",
   "metadata": {},
   "source": [
    "**1.3.1. Формирование порождающей матрицы в ступенчатом на основе входной**"
   ]
  },
  {
   "cell_type": "code",
   "execution_count": 6,
   "id": "7292b1a0",
   "metadata": {},
   "outputs": [
    {
     "data": {
      "text/plain": [
       "array([[1, 0, 1, 0, 0, 1, 0, 1, 0, 1, 0],\n",
       "       [0, 0, 0, 1, 0, 1, 0, 0, 0, 1, 1],\n",
       "       [0, 0, 0, 0, 1, 0, 0, 1, 0, 0, 1],\n",
       "       [0, 0, 0, 0, 0, 0, 1, 0, 0, 1, 0],\n",
       "       [0, 0, 0, 0, 0, 0, 0, 0, 1, 1, 1],\n",
       "       [0, 0, 0, 0, 0, 0, 0, 0, 0, 0, 0]], dtype=int32)"
      ]
     },
     "execution_count": 6,
     "metadata": {},
     "output_type": "execute_result"
    }
   ],
   "source": [
    "S = np.array([\n",
    "    [1, 0, 1, 1, 0, 0, 0, 1, 0, 0, 1],\n",
    "    [0, 0, 0, 1, 1, 1, 0, 1, 0, 1, 0],\n",
    "    [0, 0, 0, 0, 1, 0, 0, 1, 0, 0, 1],\n",
    "    [1, 0, 1, 0, 1, 1, 1, 0, 0, 0, 1],\n",
    "    [0, 0, 0, 0, 1, 0, 0, 1, 1, 1, 0],\n",
    "    [1, 0, 1, 1, 1, 0, 0, 0, 0, 0, 0]])\n",
    "\n",
    "S_REF = REF(S)\n",
    "S_REF"
   ]
  },
  {
   "cell_type": "markdown",
   "id": "ffdfeab6",
   "metadata": {},
   "source": [
    "**1.3.2. Получение количества строк и столбцов**"
   ]
  },
  {
   "cell_type": "code",
   "execution_count": 7,
   "id": "7a9e87a5",
   "metadata": {},
   "outputs": [
    {
     "name": "stdout",
     "output_type": "stream",
     "text": [
      "n, k = 6, 11\n"
     ]
    }
   ],
   "source": [
    "print('n, k = %d, %d' % (S.shape[0], S.shape[1]))"
   ]
  },
  {
   "cell_type": "markdown",
   "id": "3e034edd",
   "metadata": {},
   "source": [
    "**1.3.3. Формирование проверочной матрицы на основе порождающей**"
   ]
  },
  {
   "cell_type": "markdown",
   "id": "aab51c42",
   "metadata": {},
   "source": [
    "Шаг 1"
   ]
  },
  {
   "cell_type": "code",
   "execution_count": 8,
   "id": "28235535",
   "metadata": {},
   "outputs": [
    {
     "name": "stdout",
     "output_type": "stream",
     "text": [
      "G* =\n",
      " [[1 0 1 0 0 1 0 1 0 1 0]\n",
      " [0 0 0 1 0 1 0 0 0 1 1]\n",
      " [0 0 0 0 1 0 0 1 0 0 1]\n",
      " [0 0 0 0 0 0 1 0 0 1 0]\n",
      " [0 0 0 0 0 0 0 0 1 1 1]]\n"
     ]
    }
   ],
   "source": [
    "G = np.array([\n",
    "    [1, 0, 1, 1, 0, 0, 0, 1, 0, 0, 1],\n",
    "    [0, 0, 0, 1, 1, 1, 0, 1, 0, 1, 0],\n",
    "    [0, 0, 0, 0, 1, 0, 0, 1, 0, 0, 1],\n",
    "    [0, 0, 0, 0, 0, 0, 1, 0, 0, 1, 0],\n",
    "    [0, 0, 0, 0, 0, 0, 0, 0, 1, 1, 1]])\n",
    "\n",
    "G_RREF = RREF(G)\n",
    "print('G* =\\n', G_RREF)"
   ]
  },
  {
   "cell_type": "markdown",
   "id": "f943bf37",
   "metadata": {},
   "source": [
    "Шаг 2"
   ]
  },
  {
   "cell_type": "code",
   "execution_count": 9,
   "id": "168e504b",
   "metadata": {},
   "outputs": [
    {
     "name": "stdout",
     "output_type": "stream",
     "text": [
      "lead = [0, 3, 4, 6, 8]\n"
     ]
    }
   ],
   "source": [
    "lead = []\n",
    "\n",
    "for row in range(G_RREF.shape[0]):\n",
    "    for col in range(G_RREF.shape[1]):\n",
    "        if G_RREF[row][col]:\n",
    "            lead.append(col)\n",
    "            break\n",
    "            \n",
    "print('lead =', lead)"
   ]
  },
  {
   "cell_type": "markdown",
   "id": "4c8921e6",
   "metadata": {},
   "source": [
    "Шаг 3"
   ]
  },
  {
   "cell_type": "code",
   "execution_count": 10,
   "id": "2f10a1d5",
   "metadata": {},
   "outputs": [
    {
     "name": "stdout",
     "output_type": "stream",
     "text": [
      "X =\n",
      " [[0 1 1 1 1 0]\n",
      " [0 0 1 0 1 1]\n",
      " [0 0 0 1 0 1]\n",
      " [0 0 0 0 1 0]\n",
      " [0 0 0 0 1 1]]\n"
     ]
    }
   ],
   "source": [
    "X = np.empty(\n",
    "    [G_RREF.shape[0], G_RREF.shape[1]-len(lead)], \n",
    "    dtype=int\n",
    ")\n",
    "\n",
    "pos = 0\n",
    "for i in range(G_RREF.shape[1]):\n",
    "    if i not in lead:\n",
    "        X[:, pos] = G_RREF[:, i]\n",
    "        pos += 1\n",
    "        \n",
    "print('X =\\n', X)"
   ]
  },
  {
   "cell_type": "markdown",
   "id": "f4949346",
   "metadata": {},
   "source": [
    "Шаг 4"
   ]
  },
  {
   "cell_type": "code",
   "execution_count": 11,
   "id": "e99938fa",
   "metadata": {},
   "outputs": [
    {
     "name": "stdout",
     "output_type": "stream",
     "text": [
      "H =\n",
      " [[0 1 1 1 1 0]\n",
      " [1 0 0 0 0 0]\n",
      " [0 1 0 0 0 0]\n",
      " [0 0 1 0 1 1]\n",
      " [0 0 0 1 0 1]\n",
      " [0 0 1 0 0 0]\n",
      " [0 0 0 0 1 0]\n",
      " [0 0 0 1 0 0]\n",
      " [0 0 0 0 1 1]\n",
      " [0 0 0 0 1 0]\n",
      " [0 0 0 0 0 1]]\n"
     ]
    }
   ],
   "source": [
    "I = np.eye(max(X.shape))\n",
    "\n",
    "H = np.empty(\n",
    "    [X.shape[0]+I.shape[0], X.shape[1]],\n",
    "    dtype=int\n",
    ")\n",
    "\n",
    "posX, posI = 0, 0\n",
    "for i in range(H.shape[0]):\n",
    "    if i in lead:\n",
    "        H[i, :] = X[posX, :]\n",
    "        posX += 1\n",
    "    else:\n",
    "        H[i, :] = I[posI, :]\n",
    "        posI += 1\n",
    "\n",
    "print('H =\\n', H)"
   ]
  },
  {
   "cell_type": "markdown",
   "id": "3e0103a4",
   "metadata": {},
   "source": [
    "**1.4 Формирование кодовых слов длины *n***\n",
    "\n",
    "**1.4.1. Сложение слов из пораждающего множества с сохранением неповторяющихся** "
   ]
  },
  {
   "cell_type": "code",
   "execution_count": 12,
   "id": "8cfe7357",
   "metadata": {},
   "outputs": [],
   "source": [
    "def generate_codewords_by_sum(G):\n",
    "    from itertools import combinations\n",
    "    \n",
    "    codewords = set()\n",
    "    for r in range(1, G.shape[0] + 1):\n",
    "        for subset in combinations(G, r):\n",
    "            codeword = np.bitwise_xor.reduce(subset) % 2\n",
    "            codewords.add(tuple(codeword))\n",
    "    return np.array(list(codewords))"
   ]
  },
  {
   "cell_type": "markdown",
   "id": "c1d46632",
   "metadata": {},
   "source": [
    "Проверка работы"
   ]
  },
  {
   "cell_type": "code",
   "execution_count": 13,
   "id": "7c1baeba",
   "metadata": {},
   "outputs": [
    {
     "name": "stdout",
     "output_type": "stream",
     "text": [
      "Кодовые слова (способ 1):\n",
      "[[0 0 0 0 0 0 1 0 0 1 0]\n",
      " [0 0 0 1 1 1 1 1 1 1 1]\n",
      " [1 0 1 0 1 1 0 0 1 0 0]\n",
      " [0 0 0 0 0 0 1 0 1 0 1]\n",
      " [1 0 1 1 1 0 1 0 0 1 0]\n",
      " [1 0 1 1 0 0 1 1 1 0 0]\n",
      " [0 0 0 0 1 0 0 1 1 1 0]\n",
      " [0 0 0 1 1 1 1 1 0 0 0]\n",
      " [0 0 0 1 1 1 0 1 0 1 0]\n",
      " [0 0 0 0 1 0 1 1 1 0 0]\n",
      " [1 0 1 1 0 0 1 1 0 1 1]\n",
      " [0 0 0 1 1 1 0 1 1 0 1]\n",
      " [1 0 1 0 0 1 1 1 0 0 0]\n",
      " [1 0 1 0 0 1 1 1 1 1 1]\n",
      " [0 0 0 1 0 1 0 0 1 0 0]\n",
      " [0 0 0 0 1 0 1 1 0 1 1]\n",
      " [0 0 0 0 1 0 0 1 0 0 1]\n",
      " [1 0 1 0 1 1 0 0 0 1 1]\n",
      " [1 0 1 0 0 1 0 1 0 1 0]\n",
      " [1 0 1 1 1 0 0 0 1 1 1]\n",
      " [1 0 1 1 1 0 0 0 0 0 0]\n",
      " [1 0 1 1 1 0 1 0 1 0 1]\n",
      " [0 0 0 1 0 1 1 0 0 0 1]\n",
      " [1 0 1 0 1 1 1 0 1 1 0]\n",
      " [1 0 1 1 0 0 0 1 1 1 0]\n",
      " [1 0 1 0 1 1 1 0 0 0 1]\n",
      " [0 0 0 1 0 1 1 0 1 1 0]\n",
      " [1 0 1 0 0 1 0 1 1 0 1]\n",
      " [0 0 0 0 0 0 0 0 1 1 1]\n",
      " [1 0 1 1 0 0 0 1 0 0 1]\n",
      " [0 0 0 1 0 1 0 0 0 1 1]]\n"
     ]
    }
   ],
   "source": [
    "print(\"Кодовые слова (способ 1):\")\n",
    "print(generate_codewords_by_sum(G))"
   ]
  },
  {
   "cell_type": "markdown",
   "id": "00fb768a",
   "metadata": {},
   "source": [
    "**1.4.2. Умножение каждого слова длины *k* на матрицу *G***"
   ]
  },
  {
   "cell_type": "code",
   "execution_count": 14,
   "id": "0a3772fd",
   "metadata": {},
   "outputs": [],
   "source": [
    "def generate_codewords_by_multiplication(G):\n",
    "    k = G.shape[0]\n",
    "    from itertools import product\n",
    "    \n",
    "    codewords = set()\n",
    "    for binary_word in product([0, 1], repeat=k):\n",
    "        codeword = np.dot(binary_word, G) % 2\n",
    "        codewords.add(tuple(codeword))\n",
    "    return np.array(list(codewords))"
   ]
  },
  {
   "cell_type": "markdown",
   "id": "af9fec6f",
   "metadata": {},
   "source": [
    "Проверка работы"
   ]
  },
  {
   "cell_type": "code",
   "execution_count": 15,
   "id": "9736f6e6",
   "metadata": {},
   "outputs": [
    {
     "name": "stdout",
     "output_type": "stream",
     "text": [
      "Кодовые слова (способ 2):\n",
      "[[0 0 0 0 0 0 1 0 0 1 0]\n",
      " [0 0 0 1 1 1 1 1 1 1 1]\n",
      " [1 0 1 0 1 1 0 0 1 0 0]\n",
      " [0 0 0 0 0 0 1 0 1 0 1]\n",
      " [1 0 1 1 1 0 1 0 0 1 0]\n",
      " [1 0 1 1 0 0 1 1 1 0 0]\n",
      " [0 0 0 0 1 0 0 1 1 1 0]\n",
      " [0 0 0 1 1 1 1 1 0 0 0]\n",
      " [0 0 0 1 1 1 0 1 0 1 0]\n",
      " [0 0 0 0 1 0 1 1 1 0 0]\n",
      " [1 0 1 1 0 0 1 1 0 1 1]\n",
      " [0 0 0 1 1 1 0 1 1 0 1]\n",
      " [1 0 1 0 0 1 1 1 0 0 0]\n",
      " [1 0 1 0 0 1 1 1 1 1 1]\n",
      " [0 0 0 1 0 1 0 0 1 0 0]\n",
      " [0 0 0 0 1 0 1 1 0 1 1]\n",
      " [0 0 0 0 1 0 0 1 0 0 1]\n",
      " [1 0 1 0 1 1 0 0 0 1 1]\n",
      " [1 0 1 0 0 1 0 1 0 1 0]\n",
      " [0 0 0 0 0 0 0 0 0 0 0]\n",
      " [1 0 1 1 1 0 0 0 1 1 1]\n",
      " [1 0 1 1 1 0 0 0 0 0 0]\n",
      " [1 0 1 1 1 0 1 0 1 0 1]\n",
      " [0 0 0 1 0 1 1 0 0 0 1]\n",
      " [1 0 1 0 1 1 1 0 1 1 0]\n",
      " [1 0 1 1 0 0 0 1 1 1 0]\n",
      " [0 0 0 1 0 1 1 0 1 1 0]\n",
      " [1 0 1 0 1 1 1 0 0 0 1]\n",
      " [1 0 1 0 0 1 0 1 1 0 1]\n",
      " [0 0 0 0 0 0 0 0 1 1 1]\n",
      " [1 0 1 1 0 0 0 1 0 0 1]\n",
      " [0 0 0 1 0 1 0 0 0 1 1]]\n"
     ]
    }
   ],
   "source": [
    "print(\"Кодовые слова (способ 2):\")\n",
    "print(generate_codewords_by_multiplication(G))"
   ]
  },
  {
   "cell_type": "markdown",
   "id": "f402dcc3",
   "metadata": {},
   "source": [
    "Проверка кодовых слов на наличие ошибок с помощью матрицы H"
   ]
  },
  {
   "cell_type": "code",
   "execution_count": 16,
   "id": "eb9b343f",
   "metadata": {},
   "outputs": [],
   "source": [
    "def check_codewords_with_H(codewords, H):\n",
    "    for word in codewords:\n",
    "        syndrome = np.dot(word, H) % 2\n",
    "        if np.any(syndrome != 0):\n",
    "            return False\n",
    "    return True"
   ]
  },
  {
   "cell_type": "code",
   "execution_count": 17,
   "id": "cf94b645",
   "metadata": {},
   "outputs": [
    {
     "name": "stdout",
     "output_type": "stream",
     "text": [
      "Кодовые слова корректны: True\n"
     ]
    }
   ],
   "source": [
    "codewords = generate_codewords_by_multiplication(G)\n",
    "\n",
    "is_valid = check_codewords_with_H(codewords, H)\n",
    "\n",
    "print(\"Кодовые слова корректны:\", is_valid)"
   ]
  },
  {
   "cell_type": "markdown",
   "id": "32955d49",
   "metadata": {},
   "source": [
    "**1.5. Вычисление кодового расстояния получившегося кода**"
   ]
  },
  {
   "cell_type": "code",
   "execution_count": 18,
   "id": "19bc22bf",
   "metadata": {},
   "outputs": [],
   "source": [
    "def hamming_distance(word1, word2):\n",
    "    return np.sum(np.array(word1) != np.array(word2))\n",
    "\n",
    "def find_code_distance(codewords):\n",
    "    min_distance = np.inf\n",
    "    for i in range(len(codewords)):\n",
    "        for j in range(i + 1, len(codewords)):\n",
    "            dist = hamming_distance(codewords[i], codewords[j])\n",
    "            if 0 < dist < min_distance:\n",
    "                min_distance = dist\n",
    "    return min_distance"
   ]
  },
  {
   "cell_type": "markdown",
   "id": "5d94fa63",
   "metadata": {},
   "source": [
    "Проверка работы"
   ]
  },
  {
   "cell_type": "code",
   "execution_count": 20,
   "id": "0864a9db",
   "metadata": {},
   "outputs": [
    {
     "name": "stdout",
     "output_type": "stream",
     "text": [
      "Кодовое расстояние d: 2\n",
      "Кратность обнаруживаемой ошибки t: 1\n"
     ]
    }
   ],
   "source": [
    "d = find_code_distance(codewords)\n",
    "t = d - 1 \n",
    "print(\"Кодовое расстояние d:\", d)\n",
    "print(\"Кратность обнаруживаемой ошибки t:\", t)"
   ]
  },
  {
   "cell_type": "markdown",
   "id": "2da245fc",
   "metadata": {},
   "source": [
    "**Функции вставки и проверки ошибок**"
   ]
  },
  {
   "cell_type": "code",
   "execution_count": 19,
   "id": "f2c90468",
   "metadata": {},
   "outputs": [],
   "source": [
    "def introduce_error(codeword, error_positions):\n",
    "    erroneous_word = np.array(codeword, dtype=int)\n",
    "    for pos in error_positions:\n",
    "        erroneous_word[pos] = (erroneous_word[pos] + 1) % 2  # Внесение ошибки (переворот бита)\n",
    "    return erroneous_word\n",
    "\n",
    "def detect_error_with_H(codeword, H):\n",
    "    syndrome = np.dot(codeword, H) % 2\n",
    "    return syndrome"
   ]
  },
  {
   "cell_type": "markdown",
   "id": "6e2e9893",
   "metadata": {},
   "source": [
    "**1.5.1. Внесение в кодовое слово ошибки кратности не более *t*, умножение полученное слово на *H*, проверка обнаружения ошибки.**"
   ]
  },
  {
   "cell_type": "code",
   "execution_count": 21,
   "id": "5b25bf80",
   "metadata": {},
   "outputs": [
    {
     "name": "stdout",
     "output_type": "stream",
     "text": [
      "Кодовое слово с ошибкой (кратности t): [1 0 0 1 1 0 1 0 0 1 0]\n",
      "Синдром ошибки (кратность t): [0 1 0 0 0 0]\n",
      "\n",
      "-> Ошибка обнаружена\n"
     ]
    }
   ],
   "source": [
    "v = codewords[4]  # Берем кодовое слово\n",
    "t = 1  # Кратность ошибки\n",
    "\n",
    "error_positions_t = [2] \n",
    "v_with_error_t = introduce_error(v, error_positions_t)\n",
    "\n",
    "# Проверяем обнаружение ошибки\n",
    "syndrome_t = detect_error_with_H(v_with_error_t, H)\n",
    "print(\"Кодовое слово с ошибкой (кратности t):\", v_with_error_t)\n",
    "print(\"Синдром ошибки (кратность t):\", syndrome_t)\n",
    "print('\\n-> '+(\"Ошибка обнаружена\" if np.any(syndrome_t) else \"Ошибка не обнаружена\"))"
   ]
  },
  {
   "cell_type": "markdown",
   "id": "be8734af",
   "metadata": {},
   "source": [
    "**1.5.2. Поиск для некоторого кодового слова ошибки кратности *t+1* такую, что при умножении на *H* ошибка не будет обнаружена**"
   ]
  },
  {
   "cell_type": "code",
   "execution_count": 24,
   "id": "376e7efd",
   "metadata": {},
   "outputs": [
    {
     "name": "stdout",
     "output_type": "stream",
     "text": [
      "Кодовое слово с ошибкой (кратности t+1): [0 0 0 0 0 0 1 0 0 1 0]\n",
      "Синдром ошибки (кратность t+1): [0 0 0 0 0 0]\n",
      "\n",
      "-> Ошибка не обнаружена\n"
     ]
    }
   ],
   "source": [
    "t_plus_1 = t + 1\n",
    "error_positions_t_plus_1 = [0, 2, 3, 4]\n",
    "\n",
    "v_with_error_t_plus_1 = introduce_error(v, error_positions_t_plus_1)\n",
    "\n",
    "# Проверяем обнаружение ошибки\n",
    "syndrome_t_plus_1 = detect_error_with_H(v_with_error_t_plus_1, H)\n",
    "print(\"Кодовое слово с ошибкой (кратности t+1):\", v_with_error_t_plus_1)\n",
    "print(\"Синдром ошибки (кратность t+1):\", syndrome_t_plus_1)\n",
    "print('\\n-> '+(\"Ошибка обнаружена\" if np.any(syndrome_t_plus_1) else \"Ошибка не обнаружена\"))"
   ]
  }
 ],
 "metadata": {
  "kernelspec": {
   "display_name": "Python 3 (ipykernel)",
   "language": "python",
   "name": "python3"
  },
  "language_info": {
   "codemirror_mode": {
    "name": "ipython",
    "version": 3
   },
   "file_extension": ".py",
   "mimetype": "text/x-python",
   "name": "python",
   "nbconvert_exporter": "python",
   "pygments_lexer": "ipython3",
   "version": "3.8.10"
  }
 },
 "nbformat": 4,
 "nbformat_minor": 5
}
