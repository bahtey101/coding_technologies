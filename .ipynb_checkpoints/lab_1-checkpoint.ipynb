{
 "cells": [
  {
   "cell_type": "markdown",
   "id": "7d3c51e9",
   "metadata": {},
   "source": [
    "### Лабораторна работа 1.\n",
    "Выполнили студенты группы **6404**\n",
    "- Бахаев Дмитрий В.\n",
    "- Сагалов Никита Д.\n",
    "\n",
    "**Подключение библиотек**"
   ]
  },
  {
   "cell_type": "code",
   "execution_count": 1,
   "id": "9a987101",
   "metadata": {},
   "outputs": [],
   "source": [
    "import numpy as np"
   ]
  },
  {
   "cell_type": "markdown",
   "id": "026aea75",
   "metadata": {},
   "source": [
    "**1.1. Реализация функции REF(), приводящей матрицу к ступенчатому виду**"
   ]
  },
  {
   "cell_type": "code",
   "execution_count": 45,
   "id": "7a821e21",
   "metadata": {},
   "outputs": [],
   "source": [
    "import numpy as np\n",
    "\n",
    "def REF(matrix):\n",
    "    \"\"\"\n",
    "    matrix: Входная двумерная numpy матрица целых чисел\n",
    "    return: Матрица в ступенчатом виде по модулю 2\n",
    "    \"\"\"\n",
    "    matrix = matrix % 2\n",
    "    \n",
    "    rows, cols = matrix.shape\n",
    "    lead = 0\n",
    "    \n",
    "    for r in range(rows):\n",
    "        if lead >= cols:\n",
    "            return matrix\n",
    "        \n",
    "        i = r\n",
    "        while matrix[i, lead] == 0:\n",
    "            i += 1\n",
    "            if i == rows:\n",
    "                i = r\n",
    "                lead += 1\n",
    "                if lead == cols:\n",
    "                    return matrix\n",
    "        \n",
    "        # Меняем строки местами\n",
    "        matrix[[i, r]] = matrix[[r, i]]\n",
    "\n",
    "        # Зануляем все строки под ведущим элементом\n",
    "        for i in range(rows):\n",
    "            if i != r:\n",
    "                if matrix[i, lead] == 1:\n",
    "                    matrix[i] = (matrix[i] + matrix[r]) % 2\n",
    "        \n",
    "        lead += 1\n",
    "        \n",
    "    return matrix"
   ]
  },
  {
   "cell_type": "markdown",
   "id": "ac2455db",
   "metadata": {},
   "source": [
    "Проверка работы"
   ]
  },
  {
   "cell_type": "code",
   "execution_count": 47,
   "id": "bd5b7db8",
   "metadata": {},
   "outputs": [
    {
     "data": {
      "text/plain": [
       "array([[1, 0, 0, 0, 1],\n",
       "       [0, 1, 0, 1, 0],\n",
       "       [0, 0, 1, 0, 1],\n",
       "       [0, 0, 0, 0, 0]], dtype=int32)"
      ]
     },
     "execution_count": 47,
     "metadata": {},
     "output_type": "execute_result"
    }
   ],
   "source": [
    "matrix = np.array([[3, 0, 2, 4, 5],\n",
    "                  [0, 0, 5, 6, 7],\n",
    "                  [0, 8, 3, -2, 5],\n",
    "                  [0, 1, 0, 1, 0]])\n",
    "\n",
    "REF(matrix)"
   ]
  },
  {
   "cell_type": "markdown",
   "id": "69956bbd",
   "metadata": {},
   "source": [
    "**1.2. Реализация функции PREF(), которая приводит матрицу к приведённому ступенчатому виду**"
   ]
  },
  {
   "cell_type": "code",
   "execution_count": 50,
   "id": "ca37af6d",
   "metadata": {},
   "outputs": [],
   "source": [
    "import numpy as np\n",
    "\n",
    "def RREF(matrix):\n",
    "    \"\"\"\n",
    "    matrix: Входная двумерная numpy матрица целых чисел\n",
    "    return: Матрица в приведённом ступенчатом виде по модулю 2\n",
    "    \"\"\"\n",
    "    matrix = matrix % 2\n",
    "    \n",
    "    rows, cols = matrix.shape\n",
    "    row = 0\n",
    "    \n",
    "    for col in range(cols):\n",
    "        # Находим ненулевой элемент в текущем столбце \n",
    "        # начиная с текущей строки\n",
    "        if row >= rows:\n",
    "            break\n",
    "        for i in range(row, rows):\n",
    "            if matrix[i, col] == 1:\n",
    "                # Меняем строки местами если необходимо\n",
    "                if i != row:\n",
    "                    matrix[[row, i]] = matrix[[i, row]]\n",
    "                break\n",
    "        else:\n",
    "            # Переход к следующему столбцу\n",
    "            continue\n",
    "\n",
    "        # Обнуляем все элементы выше и ниже ведущего\n",
    "        for i in range(rows):\n",
    "            if i != row and matrix[i, col] == 1:\n",
    "                matrix[i] = (matrix[i] + matrix[row]) % 2\n",
    "\n",
    "        # Переходим к следующей строке\n",
    "        row += 1\n",
    "    \n",
    "    # Удаляем нулевые строки\n",
    "    matrix = matrix[~np.all(matrix == 0, axis=1)]\n",
    "\n",
    "    return matrix"
   ]
  },
  {
   "cell_type": "markdown",
   "id": "d345110b",
   "metadata": {},
   "source": [
    "Проверка работы"
   ]
  },
  {
   "cell_type": "code",
   "execution_count": 52,
   "id": "a3fc35a2",
   "metadata": {},
   "outputs": [
    {
     "data": {
      "text/plain": [
       "array([[1, 0, 0],\n",
       "       [0, 0, 1]], dtype=int32)"
      ]
     },
     "execution_count": 52,
     "metadata": {},
     "output_type": "execute_result"
    }
   ],
   "source": [
    "matrix = np.array([[3, 2, 1],\n",
    "                   [5, 4, 4],\n",
    "                   [7, 6, 6]])\n",
    "\n",
    "RREF(matrix)"
   ]
  },
  {
   "cell_type": "markdown",
   "id": "43e575d1",
   "metadata": {},
   "source": [
    "**1.3.1. Формирование порождающей матрицы в ступенчатом на основе входной**"
   ]
  },
  {
   "cell_type": "code",
   "execution_count": 54,
   "id": "7292b1a0",
   "metadata": {},
   "outputs": [
    {
     "data": {
      "text/plain": [
       "array([[1, 0, 1, 0, 0, 1, 0, 1, 0, 1, 0],\n",
       "       [0, 0, 0, 1, 0, 1, 0, 0, 0, 1, 1],\n",
       "       [0, 0, 0, 0, 1, 0, 0, 1, 0, 0, 1],\n",
       "       [0, 0, 0, 0, 0, 0, 1, 0, 0, 1, 0],\n",
       "       [0, 0, 0, 0, 0, 0, 0, 0, 1, 1, 1],\n",
       "       [0, 0, 0, 0, 0, 0, 0, 0, 0, 0, 0]], dtype=int32)"
      ]
     },
     "execution_count": 54,
     "metadata": {},
     "output_type": "execute_result"
    }
   ],
   "source": [
    "S = np.array([\n",
    "    [1, 0, 1, 1, 0, 0, 0, 1, 0, 0, 1],\n",
    "    [0, 0, 0, 1, 1, 1, 0, 1, 0, 1, 0],\n",
    "    [0, 0, 0, 0, 1, 0, 0, 1, 0, 0, 1],\n",
    "    [1, 0, 1, 0, 1, 1, 1, 0, 0, 0, 1],\n",
    "    [0, 0, 0, 0, 1, 0, 0, 1, 1, 1, 0],\n",
    "    [1, 0, 1, 1, 1, 0, 0, 0, 0, 0, 0]])\n",
    "\n",
    "S_REF = REF(S)\n",
    "S_REF"
   ]
  },
  {
   "cell_type": "markdown",
   "id": "ffdfeab6",
   "metadata": {},
   "source": [
    "**1.3.2. Получение количества строк и столбцов**"
   ]
  },
  {
   "cell_type": "code",
   "execution_count": 57,
   "id": "7a9e87a5",
   "metadata": {},
   "outputs": [
    {
     "name": "stdout",
     "output_type": "stream",
     "text": [
      "n, k = 6, 11\n"
     ]
    }
   ],
   "source": [
    "print('n, k = %d, %d' % (S.shape[0], S.shape[1]))"
   ]
  },
  {
   "cell_type": "markdown",
   "id": "3e034edd",
   "metadata": {},
   "source": [
    "**1.3.3. Формирование проверочной матрицы на основе порождающей**"
   ]
  },
  {
   "cell_type": "markdown",
   "id": "aab51c42",
   "metadata": {},
   "source": [
    "Шаг 1"
   ]
  },
  {
   "cell_type": "code",
   "execution_count": 89,
   "id": "28235535",
   "metadata": {},
   "outputs": [
    {
     "name": "stdout",
     "output_type": "stream",
     "text": [
      "G* =\n",
      " [[1 0 1 0 0 1 0 1 0 1 0]\n",
      " [0 0 0 1 0 1 0 0 0 1 1]\n",
      " [0 0 0 0 1 0 0 1 0 0 1]\n",
      " [0 0 0 0 0 0 1 0 0 1 0]\n",
      " [0 0 0 0 0 0 0 0 1 1 1]]\n"
     ]
    }
   ],
   "source": [
    "# Шаг 1\n",
    "G = np.array([\n",
    "    [1, 0, 1, 1, 0, 0, 0, 1, 0, 0, 1],\n",
    "    [0, 0, 0, 1, 1, 1, 0, 1, 0, 1, 0],\n",
    "    [0, 0, 0, 0, 1, 0, 0, 1, 0, 0, 1],\n",
    "    [0, 0, 0, 0, 0, 0, 1, 0, 0, 1, 0],\n",
    "    [0, 0, 0, 0, 0, 0, 0, 0, 1, 1, 1]])\n",
    "\n",
    "G_RREF = RREF(G)\n",
    "print('G* =\\n', G_RREF)"
   ]
  },
  {
   "cell_type": "markdown",
   "id": "f943bf37",
   "metadata": {},
   "source": [
    "Шаг 2"
   ]
  },
  {
   "cell_type": "code",
   "execution_count": 95,
   "id": "168e504b",
   "metadata": {},
   "outputs": [
    {
     "name": "stdout",
     "output_type": "stream",
     "text": [
      "lead = [0, 3, 4, 6, 8]\n"
     ]
    }
   ],
   "source": [
    "lead = []\n",
    "\n",
    "for row in range(G_RREF.shape[0]):\n",
    "    for col in range(G_RREF.shape[1]):\n",
    "        if G_RREF[row][col]:\n",
    "            lead.append(col)\n",
    "            break\n",
    "            \n",
    "print('lead =', lead)"
   ]
  },
  {
   "cell_type": "markdown",
   "id": "4c8921e6",
   "metadata": {},
   "source": [
    "Шаг 3"
   ]
  },
  {
   "cell_type": "code",
   "execution_count": 93,
   "id": "2f10a1d5",
   "metadata": {},
   "outputs": [
    {
     "name": "stdout",
     "output_type": "stream",
     "text": [
      "X =\n",
      " [[0 1 1 1 1 0]\n",
      " [0 0 1 0 1 1]\n",
      " [0 0 0 1 0 1]\n",
      " [0 0 0 0 1 0]\n",
      " [0 0 0 0 1 1]]\n"
     ]
    }
   ],
   "source": [
    "X = np.empty(\n",
    "    [G_RREF.shape[0], G_RREF.shape[1]-len(lead)], \n",
    "    dtype=int\n",
    ")\n",
    "\n",
    "pos = 0\n",
    "for i in range(G_RREF.shape[1]):\n",
    "    if i not in lead:\n",
    "        X[:, pos] = G_RREF[:, i]\n",
    "        pos += 1\n",
    "        \n",
    "print('X =\\n', X)"
   ]
  },
  {
   "cell_type": "markdown",
   "id": "f4949346",
   "metadata": {},
   "source": [
    "Шаг 4"
   ]
  },
  {
   "cell_type": "code",
   "execution_count": 98,
   "id": "e99938fa",
   "metadata": {},
   "outputs": [
    {
     "name": "stdout",
     "output_type": "stream",
     "text": [
      "H =\n",
      " [[0 1 1 1 1 0]\n",
      " [1 0 0 0 0 0]\n",
      " [0 1 0 0 0 0]\n",
      " [0 0 1 0 1 1]\n",
      " [0 0 0 1 0 1]\n",
      " [0 0 1 0 0 0]\n",
      " [0 0 0 0 1 0]\n",
      " [0 0 0 1 0 0]\n",
      " [0 0 0 0 1 1]\n",
      " [0 0 0 0 1 0]\n",
      " [0 0 0 0 0 1]]\n"
     ]
    }
   ],
   "source": [
    "I = np.eye(max(X.shape))\n",
    "\n",
    "H = np.empty(\n",
    "    [X.shape[0]+I.shape[0], X.shape[1]],\n",
    "    dtype=int\n",
    ")\n",
    "\n",
    "posX, posI = 0, 0\n",
    "for i in range(H.shape[0]):\n",
    "    if i in lead:\n",
    "        H[i, :] = X[posX, :]\n",
    "        posX += 1\n",
    "    else:\n",
    "        H[i, :] = I[posI, :]\n",
    "        posI += 1\n",
    "\n",
    "print('H =\\n', H)"
   ]
  },
  {
   "cell_type": "markdown",
   "id": "3e0103a4",
   "metadata": {},
   "source": [
    "**1.4 Формирование кодовых слов длины *n***\n",
    "\n",
    "**1.4.1. Сложение слов из пораждающего множества с сохранением неповторяющихся** "
   ]
  },
  {
   "cell_type": "code",
   "execution_count": null,
   "id": "8cfe7357",
   "metadata": {},
   "outputs": [],
   "source": []
  }
 ],
 "metadata": {
  "kernelspec": {
   "display_name": "Python 3 (ipykernel)",
   "language": "python",
   "name": "python3"
  },
  "language_info": {
   "codemirror_mode": {
    "name": "ipython",
    "version": 3
   },
   "file_extension": ".py",
   "mimetype": "text/x-python",
   "name": "python",
   "nbconvert_exporter": "python",
   "pygments_lexer": "ipython3",
   "version": "3.8.10"
  }
 },
 "nbformat": 4,
 "nbformat_minor": 5
}
